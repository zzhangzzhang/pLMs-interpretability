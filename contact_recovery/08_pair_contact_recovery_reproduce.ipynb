{
 "cells": [
  {
   "cell_type": "code",
   "execution_count": 2,
   "id": "8d886348-6b7e-4e56-b01c-712c2fe182de",
   "metadata": {
    "tags": []
   },
   "outputs": [],
   "source": [
    "import os\n",
    "os.environ[\"CUDA_VISIBLE_DEVICES\"] = '0'"
   ]
  },
  {
   "cell_type": "code",
   "execution_count": 3,
   "id": "cb416881-d2ad-4bdd-b126-b0614cf264d2",
   "metadata": {
    "tags": []
   },
   "outputs": [],
   "source": [
    "import esm\n",
    "import torch\n",
    "import matplotlib.pyplot as plt\n",
    "from tqdm import tqdm \n",
    "import numpy as np \n",
    "import h5py\n",
    "import json\n",
    "import re\n",
    "import shutil\n",
    "import random\n",
    "import time"
   ]
  },
  {
   "cell_type": "code",
   "execution_count": 4,
   "id": "dd16a386-a5cb-4b13-9512-4c051f9e7592",
   "metadata": {
    "tags": []
   },
   "outputs": [],
   "source": [
    "esm_transformer, esm2_alphabet = esm.pretrained.esm2_t36_3B_UR50D()\n",
    "batch_converter = esm2_alphabet.get_batch_converter()\n",
    "\n",
    "device = torch.device('cuda:0' if torch.cuda.is_available() else 'cpu')\n",
    "esm_transformer = esm_transformer.to(device)"
   ]
  },
  {
   "cell_type": "code",
   "execution_count": 5,
   "id": "95032ff6-547d-46f6-86dd-892e4dc30b36",
   "metadata": {
    "tags": []
   },
   "outputs": [],
   "source": [
    "dist_range_min = 50\n",
    "dist_range_max = 100 \n",
    "expand_type = 'outward' "
   ]
  },
  {
   "cell_type": "code",
   "execution_count": 21,
   "id": "1968c169-cd24-49f9-befa-1bd70596409c",
   "metadata": {
    "tags": []
   },
   "outputs": [],
   "source": [
    "save_file_path = 'results/pair_' + str(dist_range_min) + '_' + str(dist_range_max) + '_' + expand_type + '_wbos_eos.hdf5'"
   ]
  },
  {
   "cell_type": "code",
   "execution_count": 7,
   "id": "4ca1b194-298b-4530-9dde-6f846319eef0",
   "metadata": {
    "tags": []
   },
   "outputs": [],
   "source": [
    "with open('../data/ss_dict.json', \"r\") as json_file:\n",
    "    ss_dict = json.load(json_file)\n",
    "\n",
    "with open('../data/full_seq_dict.json', \"r\") as json_file:\n",
    "    seq_dict = json.load(json_file)\n",
    "\n",
    "with open('../data/selected_protein.json', 'r') as file:\n",
    "    selected_protein = json.load(file)\n"
   ]
  },
  {
   "cell_type": "code",
   "execution_count": 8,
   "id": "c864322d-ff34-49b4-92f7-64e999e22ff0",
   "metadata": {
    "tags": []
   },
   "outputs": [],
   "source": [
    "# get all SSEs\n",
    "def get_segments(input_str):\n",
    "    segments = []\n",
    "    for match in re.finditer('E+|H+', input_str):\n",
    "        if (match.group()[0] == 'E' and len(match.group()) > 3) or \\\n",
    "           (match.group()[0] == 'H' and len(match.group()) > 7):\n",
    "            segments.append((match.start(), match.end()))\n",
    "    return segments"
   ]
  },
  {
   "cell_type": "code",
   "execution_count": 9,
   "id": "e09c559f-ee76-4af0-9692-50c0a149006d",
   "metadata": {
    "tags": []
   },
   "outputs": [],
   "source": [
    "#def get_original_contact(seq): \n",
    "def get_contact(seq): \n",
    "    seq_tuple = [(1, seq)]\n",
    "    \n",
    "    # with BOS/EOS \n",
    "    batch_labels, batch_strs, batch_tokens = batch_converter(seq_tuple)\n",
    "    \n",
    "    # without BOS/EOS \n",
    "    #batch_tokens = torch.cat((torch.full((batch_tokens.shape[0], 1), 32), batch_tokens[:, 1:-1], torch.full((batch_tokens.shape[0], 1), 32)), dim=1)\n",
    "    \n",
    "    batch_tokens = batch_tokens.to(device)\n",
    "    with torch.no_grad():\n",
    "        esm2_predictions = esm_transformer.predict_contacts(batch_tokens)[0].cpu()\n",
    "    return esm2_predictions.numpy()"
   ]
  },
  {
   "cell_type": "code",
   "execution_count": 10,
   "id": "012fa12f-0c5b-4639-82cf-a58a6f057af3",
   "metadata": {
    "tags": []
   },
   "outputs": [],
   "source": [
    "# get centers of SSEs \n",
    "def get_ss_cents(segments): \n",
    "    ss_cents = []\n",
    "    for seg in segments: \n",
    "        ss_cents.append((seg[1] + seg[0])//2) \n",
    "    return ss_cents "
   ]
  },
  {
   "cell_type": "code",
   "execution_count": 11,
   "id": "babd63c3-76b6-476d-96d7-ed0b63ff0094",
   "metadata": {
    "tags": []
   },
   "outputs": [],
   "source": [
    "# select pairs of SSEs separated by certain distance \n",
    "def get_pairs(arr):\n",
    "    pairs = []\n",
    "    for i in range(len(arr)):\n",
    "        for j in range(i+1, len(arr)):\n",
    "            if dist_range_min < abs(arr[i] - arr[j]) <= dist_range_max: # look at long separation ones \n",
    "                pairs.append((arr[i], arr[j]))\n",
    "    return pairs"
   ]
  },
  {
   "cell_type": "code",
   "execution_count": 12,
   "id": "7a186254-4576-4f13-9a26-7c612446e071",
   "metadata": {
    "tags": []
   },
   "outputs": [],
   "source": [
    "# take 5 res on both sides \n",
    "# select segment pairs with enough contacts + leaves enough distances for exploring different flanking lengths \n",
    "def select_pairs(cent_pairs, matrix, cutoff, seq_len):\n",
    "    selected_pairs = []\n",
    "    for pair in cent_pairs: \n",
    "        ss1_start = pair[0] - 5 \n",
    "        ss2_end = pair[1] + 5 + 1 \n",
    "        patch_sum = np.sum(matrix[(pair[0] - 5): (pair[0] + 6), (pair[1] - 5): (pair[1] + 6)])\n",
    "        # check there is enough contact between the two SSE \n",
    "        # check there is enough region for expanding to check recovery \n",
    "        if (patch_sum > cutoff) and (min(ss1_start, seq_len - ss2_end - 1) > 10):\n",
    "            selected_pairs.append(pair) \n",
    "    n = min(len(selected_pairs), 3)\n",
    "    selected_pairs = random.sample(selected_pairs, n)\n",
    "    return selected_pairs "
   ]
  },
  {
   "cell_type": "code",
   "execution_count": 15,
   "id": "20691fc2-5870-43fe-bace-39913e2b9708",
   "metadata": {
    "tags": []
   },
   "outputs": [],
   "source": [
    "# get the masked sequence and then the contact map \n",
    "def get_seg_contact(sequence, frag1_start, frag1_end, frag2_start, frag2_end): # flank_len is the amount of residues to add at sides of the segments  \n",
    "    seg_seq_i = sequence[frag1_start: frag1_end] \n",
    "    seg_seq_j = sequence[frag2_start: frag2_end] \n",
    "    mask_length = frag2_start - frag1_end \n",
    "    full_seq = frag1_start * '<mask>' + seg_seq_i + mask_length * '<mask>' + seg_seq_j + (len(seq) -  frag2_end) * '<mask>'\n",
    "    contact_map = get_contact(full_seq) \n",
    "    return contact_map\n"
   ]
  },
  {
   "cell_type": "code",
   "execution_count": 16,
   "id": "92c1b007-8b12-4afd-a7fd-23cab372841f",
   "metadata": {
    "tags": []
   },
   "outputs": [],
   "source": [
    "def norm_sum_mult(ori_contact_seg, seg_cross_contact):\n",
    "    ori_mult_new = np.multiply(ori_contact_seg, seg_cross_contact)\n",
    "    ori_mult_ori = np.multiply(ori_contact_seg, ori_contact_seg)\n",
    "    return (np.sum(ori_mult_new)/np.sum(ori_mult_ori))"
   ]
  },
  {
   "cell_type": "code",
   "execution_count": 36,
   "id": "787d4603-900f-4a48-9465-13049b2b03f4",
   "metadata": {
    "tags": []
   },
   "outputs": [],
   "source": [
    "previous_data = {}\n",
    "\n",
    "with h5py.File('../results/high_gremline_mask_100_outward_wbos_eos.hdf5', 'r') as f:\n",
    "    for protein in f.keys():\n",
    "        selected_pairs = []\n",
    "        for pair in f[protein].keys():\n",
    "            selected_pairs.append([int(pair.split('_')[0]), int(pair.split('_')[1])])\n",
    "        previous_data[protein] = selected_pairs "
   ]
  },
  {
   "cell_type": "code",
   "execution_count": 37,
   "id": "15ce8c9d-46f1-4d5d-a486-14097c049b61",
   "metadata": {
    "tags": []
   },
   "outputs": [],
   "source": [
    "with open('../data/reproduce_pair_recovery_w_bos_eos.json', 'w') as json_file:\n",
    "    json.dump(previous_data, json_file)"
   ]
  },
  {
   "cell_type": "code",
   "execution_count": 38,
   "id": "36010d23-eca6-45ed-9d33-05e3c3c1aad1",
   "metadata": {
    "collapsed": true,
    "jupyter": {
     "outputs_hidden": true
    },
    "tags": []
   },
   "outputs": [
    {
     "data": {
      "text/plain": [
       "{'1BRTA': [[119, 221]],\n",
       " '1BS0A': [[90, 276]],\n",
       " '1DYPA': [[116, 228]],\n",
       " '1E6UA': [[19, 219]],\n",
       " '1ELUA': [[61, 281]],\n",
       " '1EU8A': [[21, 322]],\n",
       " '1F0KA': [[203, 315]],\n",
       " '1FNNA': [[48, 162]],\n",
       " '1FVIA': [[23, 163]],\n",
       " '1GA8A': [[16, 265]],\n",
       " '1GVFA': [[33, 266]],\n",
       " '1IN4A': [[55, 174]],\n",
       " '1JX6A': [[64, 296]],\n",
       " '1K7JA': [[19, 131]],\n",
       " '1MJ5A': [[128, 240]],\n",
       " '1MO9A': [[47, 172], [47, 178]],\n",
       " '1NNLA': [[17, 175]],\n",
       " '1NOXA': [[64, 165]],\n",
       " '1NZYA': [[84, 232]],\n",
       " '1O97D': [[61, 172]],\n",
       " '1OOEA': [[19, 203]],\n",
       " '1OZHA': [[227, 328], [377, 523]],\n",
       " '1P3DA': [[341, 455]],\n",
       " '1PVGA': [[101, 202]],\n",
       " '1Q0RA': [[122, 242]],\n",
       " '1Q6ZA': [[221, 322], [359, 505]],\n",
       " '1RKQA': [[30, 264]],\n",
       " '1RM6B': [[71, 210]],\n",
       " '1S0AA': [[67, 321]],\n",
       " '1SZWA': [[153, 343]],\n",
       " '1UJ2A': [[25, 135]],\n",
       " '1URSA': [[145, 268]],\n",
       " '1YARA': [[47, 213]],\n",
       " '1YFQA': [[17, 300]],\n",
       " '1YKIA': [[83, 189]],\n",
       " '1Z0SA': [[127, 259]],\n",
       " '1Z5ZA': [[31, 218]],\n",
       " '1ZMTA': [[18, 219]],\n",
       " '1ZR6A': [[233, 340]],\n",
       " '2A35A': [[20, 187]],\n",
       " '2AQJA': [[35, 182]],\n",
       " '2B61A': [[182, 316]],\n",
       " '2BD0A': [[20, 215]],\n",
       " '2C8MA': [[20, 238]],\n",
       " '2D1SA': [[63, 169]],\n",
       " '2D2EA': [[32, 196]],\n",
       " '2DBYA': [[104, 205]],\n",
       " '2DEJA': [[182, 310]],\n",
       " '2DG1A': [[31, 309]],\n",
       " '2DPMA': [[59, 172]],\n",
       " '2E5FA': [[179, 298]],\n",
       " '2EK8A': [[59, 203], [72, 190]],\n",
       " '2FBQA': [[94, 201]],\n",
       " '2FEAA': [[86, 211]],\n",
       " '2FNUA': [[18, 238], [50, 192]],\n",
       " '2FWMX': [[23, 222]],\n",
       " '2H8GA': [[98, 207]],\n",
       " '2HF2A': [[30, 260]],\n",
       " '2HF9A': [[41, 144]],\n",
       " '2HFSA': [[190, 293]],\n",
       " '2I0ZA': [[30, 178]],\n",
       " '2IHTA': [[18, 149], [237, 343], [390, 542]],\n",
       " '2II1A': [[76, 205]],\n",
       " '2JBVA': [[41, 225]],\n",
       " '2NXWA': [[212, 340]],\n",
       " '2OLTA': [[96, 209]],\n",
       " '2OZEA': [[38, 159]],\n",
       " '2PEFA': [[224, 353]],\n",
       " '2PFZA': [[21, 238]],\n",
       " '2PJZA': [[33, 179], [33, 197]],\n",
       " '2PKEA': [[16, 131], [16, 183]],\n",
       " '2POKA': [[228, 354], [228, 385]],\n",
       " '2PZMA': [[35, 225]],\n",
       " '2Q7SA': [[27, 169]],\n",
       " '2QJ8A': [[66, 221]],\n",
       " '2QM0A': [[50, 156]],\n",
       " '2QNIA': [[25, 159], [25, 193]],\n",
       " '2QQ5A': [[21, 232]],\n",
       " '2QSXA': [[70, 189]],\n",
       " '2QY6A': [[63, 177]],\n",
       " '2R6JA': [[28, 196]],\n",
       " '2RKVA': [[232, 426], [23, 150]],\n",
       " '2UUQA': [[128, 372]],\n",
       " '2UYTA': [[254, 397]],\n",
       " '2V2FF': [[68, 331]],\n",
       " '2VK8A': [[201, 333], [232, 333]],\n",
       " '2W5QA': [[33, 191], [33, 253]],\n",
       " '2WIYA': [[108, 356]],\n",
       " '2WVGA': [[198, 327]],\n",
       " '2WZVA': [[75, 188]],\n",
       " '2X3LA': [[85, 235]],\n",
       " '2XD3A': [[145, 280], [51, 328]],\n",
       " '2YHWA': [[161, 288]],\n",
       " '2YXZA': [[154, 262]],\n",
       " '3AXBA': [[27, 246], [39, 408], [51, 198]],\n",
       " '3BF5A': [[24, 144]],\n",
       " '3BS6A': [[121, 250]],\n",
       " '3BWXA': [[125, 231]],\n",
       " '3C8MA': [[171, 294]],\n",
       " '3C96A': [[19, 330]],\n",
       " '3C9UA': [[187, 301]],\n",
       " '3CJMA': [[53, 249]],\n",
       " '3CKCA': [[224, 420]],\n",
       " '3CRVA': [[176, 319], [359, 524], [51, 152]],\n",
       " '3CSSA': [[41, 159]],\n",
       " '3CWVA': [[230, 336], [55, 191]],\n",
       " '3D3YA': [[28, 203]],\n",
       " '3DGTA': [[122, 240]],\n",
       " '3DJEA': [[34, 178]],\n",
       " '3DSKA': [[350, 455]],\n",
       " '3E48A': [[16, 179]],\n",
       " '3EAFA': [[252, 354]],\n",
       " '3FD3A': [[66, 177]],\n",
       " '3FDUA': [[91, 226]],\n",
       " '3FFRA': [[47, 253]],\n",
       " '3FWYA': [[51, 167]],\n",
       " '3FXQA': [[159, 271]],\n",
       " '3G68A': [[193, 321]],\n",
       " '3GO6A': [[22, 147]],\n",
       " '3GUYA': [[17, 201]],\n",
       " '3GYBA': [[26, 238]],\n",
       " '3H14A': [[52, 269]],\n",
       " '3H7IA': [[16, 150]],\n",
       " '3HDXA': [[218, 369]],\n",
       " '3HO7A': [[76, 189]],\n",
       " '3HZ6A': [[260, 406]],\n",
       " '3I1AA': [[122, 261]],\n",
       " '3I4GA': [[220, 393]],\n",
       " '3IHVA': [[224, 404]],\n",
       " '3IIIA': [[394, 510]],\n",
       " '3IRVA': [[25, 143], [53, 214]],\n",
       " '3IS6A': [[18, 220], [58, 182]],\n",
       " '3ISAA': [[85, 222]],\n",
       " '3ISRA': [[16, 268]],\n",
       " '3JQ0A': [[211, 370]],\n",
       " '3JQ1A': [[201, 366]],\n",
       " '3JS8A': [[102, 210]],\n",
       " '3JTXA': [[49, 285]],\n",
       " '3K0BA': [[57, 250]],\n",
       " '3KF3A': [[355, 487]],\n",
       " '3L39A': [[106, 208]],\n",
       " '3LEWA': [[225, 352]],\n",
       " '3LHQA': [[96, 198]],\n",
       " '3LL3A': [[256, 397]],\n",
       " '3LOGA': [[18, 150]],\n",
       " '3LY1A': [[37, 250]],\n",
       " '3M6NA': [[124, 270]],\n",
       " '3MW8A': [[35, 153]],\n",
       " '3NRSA': [[314, 419]],\n",
       " '3NX3A': [[96, 258]],\n",
       " '3O94A': [[24, 147]],\n",
       " '3OHGA': [[48, 202]],\n",
       " '3OHRA': [[128, 230]],\n",
       " '3OKPA': [[219, 336]],\n",
       " '3OP7A': [[69, 262]],\n",
       " '3OQPA': [[38, 183]],\n",
       " '3P8KA': [[23, 254]],\n",
       " '3PBTA': [[208, 480]],\n",
       " '3PFOA': [[218, 335]],\n",
       " '3PIJA': [[391, 508]],\n",
       " '3POPA': [[101, 204]],\n",
       " '3QDLA': [[84, 186]],\n",
       " '3QSJA': [[27, 178]],\n",
       " '3QUFA': [[139, 280]],\n",
       " '3QVLA': [[102, 209]],\n",
       " '3R6DA': [[21, 187]],\n",
       " '3RJUA': [[28, 324], [68, 182]],\n",
       " '3RQTA': [[249, 381], [25, 199]],\n",
       " '3SD7A': [[32, 188]],\n",
       " '3SG8A': [[122, 246]],\n",
       " '3T4LA': [[78, 195]],\n",
       " '3T7DA': [[302, 431]],\n",
       " '3TG2A': [[31, 142]],\n",
       " '3UCEA': [[21, 198]],\n",
       " '3UCXA': [[27, 237]],\n",
       " '3UGFA': [[379, 481]],\n",
       " '3VCAA': [[184, 329]],\n",
       " '3VOTA': [[21, 313]],\n",
       " '3VQJA': [[93, 196]],\n",
       " '3VYPA': [[116, 236]],\n",
       " '3WJPA': [[167, 277]],\n",
       " '3WMRA': [[146, 260]],\n",
       " '4A2BA': [[210, 333], [80, 186]],\n",
       " '4A6RA': [[74, 333]],\n",
       " '4BFCA': [[60, 190]],\n",
       " '4BRCA': [[151, 262]],\n",
       " '4C12A': [[347, 452]],\n",
       " '4DM7A': [[126, 239]],\n",
       " '4E1BA': [[19, 131]],\n",
       " '4E69A': [[26, 149]],\n",
       " '4EHUA': [[97, 211]],\n",
       " '4EQBA': [[115, 224]],\n",
       " '4EWFA': [[16, 257], [29, 239]],\n",
       " '4EX6A': [[22, 123], [22, 181]],\n",
       " '4EZIA': [[194, 311]],\n",
       " '4FB2A': [[114, 352]],\n",
       " '4G41A': [[62, 184]],\n",
       " '4H3VA': [[163, 264], [163, 280]],\n",
       " '4HACA': [[184, 286]],\n",
       " '4HESA': [[32, 243]],\n",
       " '4HZIA': [[63, 228], [63, 245]],\n",
       " '4I0WB': [[199, 310], [27, 152]],\n",
       " '4IJNA': [[207, 327]],\n",
       " '4KAVA': [[25, 166], [25, 237]],\n",
       " '4L2IA': [[73, 187]],\n",
       " '4ME3A': [[126, 238]],\n",
       " '4MFIA': [[157, 288]],\n",
       " '4MNRA': [[132, 427]],\n",
       " '4MX6A': [[57, 276]],\n",
       " '4N13A': [[80, 226]],\n",
       " '4N91A': [[183, 308], [51, 272]],\n",
       " '4N9WA': [[214, 325]],\n",
       " '4NN3A': [[49, 269]],\n",
       " '4NTDA': [[34, 135]],\n",
       " '4O5FA': [[142, 245]],\n",
       " '4O5OA': [[29, 236]],\n",
       " '4O6VA': [[28, 214]],\n",
       " '4OEVA': [[234, 462]],\n",
       " '4OPCA': [[20, 311]],\n",
       " '4OY3A': [[61, 181]],\n",
       " '4P6BA': [[66, 193]],\n",
       " '4PXEA': [[234, 339]],\n",
       " '4Q6BA': [[32, 292]],\n",
       " '4QBUA': [[96, 369]],\n",
       " '4QFLA': [[32, 243]],\n",
       " '4QRHA': [[26, 183]],\n",
       " '4R2FA': [[97, 310]],\n",
       " '4R6HA': [[146, 288], [51, 337]],\n",
       " '4R6KA': [[150, 289]],\n",
       " '4R75A': [[109, 220]],\n",
       " '4R9FA': [[109, 334]],\n",
       " '4RJ2A': [[72, 186]],\n",
       " '4RK6A': [[105, 268], [30, 250]],\n",
       " '4RVCA': [[32, 188]],\n",
       " '4TL6A': [[43, 179]],\n",
       " '4UA6A': [[21, 235]],\n",
       " '4UA8A': [[139, 260]],\n",
       " '4UDQA': [[33, 226]],\n",
       " '4USKA': [[203, 307]],\n",
       " '4WBTA': [[57, 267]],\n",
       " '4WY2A': [[159, 271]],\n",
       " '4XLZA': [[35, 136]],\n",
       " '4Y1BA': [[74, 178]],\n",
       " '4Y9TA': [[47, 275]],\n",
       " '4YGSA': [[94, 206]],\n",
       " '4YHBA': [[19, 126]],\n",
       " '4YJ6A': [[271, 395]],\n",
       " '4ZE8A': [[249, 466]],\n",
       " '4ZJUA': [[34, 238]],\n",
       " '4ZNMA': [[245, 425], [275, 444], [50, 151]],\n",
       " '5AB4A': [[127, 233]],\n",
       " '5AJGA': [[174, 287]],\n",
       " '5AUNB': [[22, 129], [22, 153]],\n",
       " '5AZ3A': [[192, 324]],\n",
       " '5B19A': [[19, 212]],\n",
       " '5BRLA': [[58, 173]],\n",
       " '5CMLA': [[50, 242]],\n",
       " '5CXXA': [[29, 136]],\n",
       " '5FS8A': [[33, 149], [33, 154]],\n",
       " '5G0AA': [[97, 342]],\n",
       " '5HEEA': [[43, 167]],\n",
       " '5I45A': [[49, 169]],\n",
       " '5I9JA': [[69, 187]],\n",
       " '5IDVA': [[69, 245]],\n",
       " '5IDYA': [[31, 237]],\n",
       " '5IVKA': [[247, 352]]}"
      ]
     },
     "execution_count": 38,
     "metadata": {},
     "output_type": "execute_result"
    }
   ],
   "source": [
    "previous_data"
   ]
  },
  {
   "cell_type": "code",
   "execution_count": 39,
   "id": "65b70b18-805b-4e65-9769-2c57e8f5581a",
   "metadata": {
    "tags": []
   },
   "outputs": [
    {
     "name": "stdout",
     "output_type": "stream",
     "text": [
      "{'3CKCA': [[224, 420]], '1PVGA': [[101, 202]]}\n"
     ]
    }
   ],
   "source": [
    "keys_for_test = ['3CKCA', '1PVGA']\n",
    "test_dict = {key: previous_data[key] for key in keys_for_test if key in previous_data}\n",
    "print(test_dict)"
   ]
  },
  {
   "cell_type": "code",
   "execution_count": 40,
   "id": "d85e4fbc-adfd-4af1-b340-a71a48f9d531",
   "metadata": {
    "tags": []
   },
   "outputs": [
    {
     "name": "stderr",
     "output_type": "stream",
     "text": [
      "  0%|          | 0/2 [00:00<?, ?it/s]\n",
      "  0%|          | 0/1 [00:00<?, ?it/s]\u001b[A\n",
      "100%|██████████| 1/1 [00:26<00:00, 26.67s/it]\u001b[A\n",
      " 50%|█████     | 1/2 [00:47<00:47, 47.22s/it]\n",
      "  0%|          | 0/1 [00:00<?, ?it/s]\u001b[A\n",
      "100%|██████████| 1/1 [00:20<00:00, 20.86s/it]\u001b[A\n",
      "100%|██████████| 2/2 [01:08<00:00, 34.15s/it]\n"
     ]
    }
   ],
   "source": [
    "with h5py.File(save_file_path, 'w') as f:\n",
    "    #for i, protein in enumerate(tqdm(selected_protein)):\n",
    "    for i, protein in enumerate(tqdm(test)):\n",
    "        seq = seq_dict[protein]\n",
    "        contact_ori = get_contact(seq) \n",
    "        ss = ss_dict[protein + '.pdb']\n",
    "        \n",
    "        segments = get_segments(ss)\n",
    "        ss_cents = get_ss_cents(segments)\n",
    "        ss_pairs = get_pairs(ss_cents)\n",
    "        selected_pairs = previous_data[protein]\n",
    "        \n",
    "        for position in tqdm(selected_pairs):\n",
    "            ss1_start = position[0] - 5 \n",
    "            ss1_end = position[0] + 5 + 1 \n",
    "            ss2_start = position[1] - 5 \n",
    "            ss2_end = position[1] + 5 + 1 \n",
    "            \n",
    "            ori_contact_seg = contact_ori[ss1_start:ss1_end, ss2_start:ss2_end]\n",
    "            \n",
    "            #expand outward \n",
    "            flank_len_range = min(ss1_start, len(seq) - ss2_end - 1)\n",
    "            \n",
    "            for flank_len in range(flank_len_range):\n",
    "\n",
    "                    # expand outward \n",
    "                    frag1_start = ss1_start - flank_len\n",
    "                    frag1_end = ss1_end\n",
    "                    frag2_start = ss2_start\n",
    "                    frag2_end = ss2_end + flank_len\n",
    "\n",
    "                    seg_contact = get_seg_contact(seq, frag1_start, frag1_end, frag2_start, frag2_end) \n",
    "\n",
    "                    # expand both ways / outward / inward\n",
    "                    seg_cross_contact = seg_contact[ss1_start:ss1_end, ss2_start:ss2_end]\n",
    "\n",
    "                    sum_diff_value = np.sum(seg_cross_contact) - np.sum(ori_contact_seg)\n",
    "                    norm_sum_mult_value = norm_sum_mult(ori_contact_seg, seg_cross_contact)\n",
    "\n",
    "                    key0 = f'{protein}/{position[0]}_{position[1]}/{flank_len}/ori_contact_full'\n",
    "                    key1 = f'{protein}/{position[0]}_{position[1]}/{flank_len}/seg_contact' \n",
    "                    key2 = f'{protein}/{position[0]}_{position[1]}/{flank_len}/seg_cross_contact' \n",
    "                    key3 = f'{protein}/{position[0]}_{position[1]}/{flank_len}/sum_diff' \n",
    "                    key4 = f'{protein}/{position[0]}_{position[1]}/{flank_len}/sum_mult' \n",
    "\n",
    "                    f.create_dataset(key0, data=contact_ori)\n",
    "                    f.create_dataset(key1, data=seg_contact)\n",
    "                    f.create_dataset(key2, data=seg_cross_contact)\n",
    "                    f.create_dataset(key3, data=sum_diff_value)\n",
    "                    f.create_dataset(key4, data=norm_sum_mult_value)\n",
    "        if i % 300 == 0:\n",
    "            f.flush()\n",
    "            shutil.copy(save_file_path, save_file_path.split('.')[0] + '_' + str(i) + '.hdf5')\n",
    "            time.sleep(20)\n",
    "\n",
    "torch.cuda.empty_cache()"
   ]
  },
  {
   "cell_type": "code",
   "execution_count": null,
   "id": "0690c561-d510-402a-a26c-2d9b0967db1e",
   "metadata": {},
   "outputs": [],
   "source": []
  }
 ],
 "metadata": {
  "kernelspec": {
   "display_name": "so_covar",
   "language": "python",
   "name": "so_covar"
  },
  "language_info": {
   "codemirror_mode": {
    "name": "ipython",
    "version": 3
   },
   "file_extension": ".py",
   "mimetype": "text/x-python",
   "name": "python",
   "nbconvert_exporter": "python",
   "pygments_lexer": "ipython3",
   "version": "3.9.16"
  }
 },
 "nbformat": 4,
 "nbformat_minor": 5
}
