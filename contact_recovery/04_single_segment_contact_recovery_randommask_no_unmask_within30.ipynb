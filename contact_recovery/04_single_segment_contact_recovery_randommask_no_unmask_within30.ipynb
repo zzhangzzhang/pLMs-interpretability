{
 "cells": [
  {
   "cell_type": "code",
   "execution_count": 1,
   "id": "7af9496f-9996-422c-ba27-1ae54ac5379e",
   "metadata": {
    "tags": []
   },
   "outputs": [],
   "source": [
    "import os\n",
    "os.environ[\"CUDA_VISIBLE_DEVICES\"] = '3'"
   ]
  },
  {
   "cell_type": "code",
   "execution_count": 2,
   "id": "905aabfc-f657-4637-987a-987078e43167",
   "metadata": {
    "tags": []
   },
   "outputs": [],
   "source": [
    "import esm\n",
    "import torch\n",
    "import matplotlib.pyplot as plt\n",
    "from tqdm import tqdm \n",
    "import numpy as np \n",
    "import h5py\n",
    "import json\n",
    "import re\n",
    "import shutil\n",
    "import random\n",
    "import time\n",
    "import random"
   ]
  },
  {
   "cell_type": "code",
   "execution_count": 3,
   "id": "8cd4950d-1cbb-44bd-ae2c-9beba2a183d4",
   "metadata": {
    "tags": []
   },
   "outputs": [],
   "source": [
    "esm_transformer, esm2_alphabet = esm.pretrained.esm2_t36_3B_UR50D()\n",
    "batch_converter = esm2_alphabet.get_batch_converter()"
   ]
  },
  {
   "cell_type": "code",
   "execution_count": 4,
   "id": "c559d141-0f4d-4e53-b9c1-c1fd2b05ab77",
   "metadata": {
    "tags": []
   },
   "outputs": [],
   "source": [
    "device = torch.device('cuda:0' if torch.cuda.is_available() else 'cpu')\n",
    "esm_transformer = esm_transformer.to(device)"
   ]
  },
  {
   "cell_type": "code",
   "execution_count": 5,
   "id": "3e477dc2-d215-4138-8885-78724f1ac3b0",
   "metadata": {
    "tags": []
   },
   "outputs": [],
   "source": [
    "with open('../data/full_seq_dict.json', \"r\") as json_file:\n",
    "    seq_dict = json.load(json_file)\n",
    "\n",
    "with open('../data/selected_protein.json', 'r') as file:\n",
    "    selected_protein = json.load(file)"
   ]
  },
  {
   "cell_type": "code",
   "execution_count": 6,
   "id": "0ef340d3-e3fb-459d-bcad-87637f0caada",
   "metadata": {
    "tags": []
   },
   "outputs": [],
   "source": [
    "save_file_path = '../results/single_seg_w_bos_eos_randommask_no_unmask_within30.hdf5'"
   ]
  },
  {
   "cell_type": "code",
   "execution_count": 7,
   "id": "1111f855-d1df-4558-ba47-6e98684f2cb7",
   "metadata": {
    "tags": []
   },
   "outputs": [
    {
     "data": {
      "text/plain": [
       "'results/single_seg_w_bos_eos_randommask_no_unmask_within30.hdf5'"
      ]
     },
     "execution_count": 7,
     "metadata": {},
     "output_type": "execute_result"
    }
   ],
   "source": [
    "save_file_path"
   ]
  },
  {
   "cell_type": "code",
   "execution_count": 8,
   "id": "af409228-e833-463c-b4ad-9f6b7e9a6a0c",
   "metadata": {
    "tags": []
   },
   "outputs": [],
   "source": [
    "def get_contact(seq): \n",
    "    seq_tuple = [(1, seq)]\n",
    "    batch_labels, batch_strs, batch_tokens = batch_converter(seq_tuple)\n",
    "    #batch_tokens = torch.cat((torch.full((batch_tokens.shape[0], 1), 32), batch_tokens[:, 1:-1], torch.full((batch_tokens.shape[0], 1), 32)), dim=1)\n",
    "    batch_tokens = batch_tokens.to(device)\n",
    "    with torch.no_grad():\n",
    "        esm2_predictions = esm_transformer.predict_contacts(batch_tokens)[0].cpu()\n",
    "    return esm2_predictions.numpy()"
   ]
  },
  {
   "cell_type": "code",
   "execution_count": 9,
   "id": "a3148e30-2929-4232-aa0b-bd2584ad79ee",
   "metadata": {
    "tags": []
   },
   "outputs": [],
   "source": [
    "def norm_sum_mult(ori_contact_seg, seg_cross_contact):\n",
    "    ori_mult_new = np.multiply(ori_contact_seg, seg_cross_contact)\n",
    "    ori_mult_ori = np.multiply(ori_contact_seg, ori_contact_seg)\n",
    "    return (np.sum(ori_mult_new)/np.sum(ori_mult_ori))"
   ]
  },
  {
   "cell_type": "code",
   "execution_count": 10,
   "id": "043726b1-23ab-4dc8-81b4-281b0e76d174",
   "metadata": {
    "tags": []
   },
   "outputs": [],
   "source": [
    "with open('../data/reproduce_single_recovery_w_bos_eos.json', 'r') as json_file:\n",
    "    previous_data = json.load(json_file)"
   ]
  },
  {
   "cell_type": "code",
   "execution_count": 11,
   "id": "87966cdf-71eb-454a-9bf6-17b09eacbd8f",
   "metadata": {
    "tags": []
   },
   "outputs": [
    {
     "name": "stdout",
     "output_type": "stream",
     "text": [
      "{'1A8LA': [31, 48, 92], '1BYIA': [136, 177, 80]}\n"
     ]
    }
   ],
   "source": [
    "# for a quick test\n",
    "keys_for_test = ['1A8LA', '1BYIA']\n",
    "test_dict = {key: previous_data[key] for key in keys_for_test if key in previous_data}\n",
    "print(test_dict)"
   ]
  },
  {
   "cell_type": "code",
   "execution_count": 13,
   "id": "40aaf082-fedd-401a-8d03-265fe5a6f6e7",
   "metadata": {
    "tags": []
   },
   "outputs": [
    {
     "name": "stderr",
     "output_type": "stream",
     "text": [
      "  0%|          | 0/1431 [00:00<?, ?it/s]\n",
      "  0%|          | 0/3 [00:00<?, ?it/s]\u001b[A\n",
      " 33%|███▎      | 1/3 [00:23<00:46, 23.50s/it]\u001b[A\n",
      " 67%|██████▋   | 2/3 [00:48<00:24, 24.62s/it]\u001b[A"
     ]
    },
    {
     "name": "stdout",
     "output_type": "stream",
     "text": [
      "not enough pos\n"
     ]
    },
    {
     "name": "stderr",
     "output_type": "stream",
     "text": [
      "\n",
      "100%|██████████| 3/3 [01:17<00:00, 25.71s/it]\u001b[A\n",
      "  0%|          | 1/1431 [01:17<30:41:15, 77.26s/it]\n",
      "  0%|          | 0/3 [00:00<?, ?it/s]\u001b[A\n",
      " 33%|███▎      | 1/3 [00:07<00:14,  7.39s/it]\u001b[A\n",
      " 67%|██████▋   | 2/3 [00:13<00:06,  6.72s/it]\u001b[A\n",
      "  0%|          | 1/1431 [01:30<36:04:28, 90.82s/it]\n"
     ]
    },
    {
     "ename": "KeyboardInterrupt",
     "evalue": "",
     "output_type": "error",
     "traceback": [
      "\u001b[0;31m---------------------------------------------------------------------------\u001b[0m",
      "\u001b[0;31mKeyboardInterrupt\u001b[0m                         Traceback (most recent call last)",
      "Cell \u001b[0;32mIn[13], line 34\u001b[0m\n\u001b[1;32m     30\u001b[0m seq_mask[patch_start:patch_end] \u001b[38;5;241m=\u001b[39m seq[patch_start:patch_end]\n\u001b[1;32m     31\u001b[0m seq_mask \u001b[38;5;241m=\u001b[39m \u001b[38;5;124m'\u001b[39m\u001b[38;5;124m'\u001b[39m\u001b[38;5;241m.\u001b[39mjoin(seq_mask)\n\u001b[0;32m---> 34\u001b[0m mask_contact_full \u001b[38;5;241m=\u001b[39m \u001b[43mget_contact\u001b[49m\u001b[43m(\u001b[49m\u001b[43mseq_mask\u001b[49m\u001b[43m)\u001b[49m\n\u001b[1;32m     36\u001b[0m ori_contact_seg \u001b[38;5;241m=\u001b[39m ori_contact[patch_start:patch_end, patch_start:patch_end]\n\u001b[1;32m     37\u001b[0m mask_contact_seg \u001b[38;5;241m=\u001b[39m mask_contact_full[patch_start:patch_end, patch_start:patch_end]\n",
      "Cell \u001b[0;32mIn[8], line 7\u001b[0m, in \u001b[0;36mget_contact\u001b[0;34m(seq)\u001b[0m\n\u001b[1;32m      5\u001b[0m batch_tokens \u001b[38;5;241m=\u001b[39m batch_tokens\u001b[38;5;241m.\u001b[39mto(device)\n\u001b[1;32m      6\u001b[0m \u001b[38;5;28;01mwith\u001b[39;00m torch\u001b[38;5;241m.\u001b[39mno_grad():\n\u001b[0;32m----> 7\u001b[0m     esm2_predictions \u001b[38;5;241m=\u001b[39m \u001b[43mesm_transformer\u001b[49m\u001b[38;5;241;43m.\u001b[39;49m\u001b[43mpredict_contacts\u001b[49m\u001b[43m(\u001b[49m\u001b[43mbatch_tokens\u001b[49m\u001b[43m)\u001b[49m\u001b[43m[\u001b[49m\u001b[38;5;241;43m0\u001b[39;49m\u001b[43m]\u001b[49m\u001b[38;5;241;43m.\u001b[39;49m\u001b[43mcpu\u001b[49m\u001b[43m(\u001b[49m\u001b[43m)\u001b[49m\n\u001b[1;32m      8\u001b[0m \u001b[38;5;28;01mreturn\u001b[39;00m esm2_predictions\u001b[38;5;241m.\u001b[39mnumpy()\n",
      "\u001b[0;31mKeyboardInterrupt\u001b[0m: "
     ]
    }
   ],
   "source": [
    "with h5py.File(save_file_path, 'w') as f:\n",
    "    #proteins = test_dict.keys()\n",
    "    proteins = previous_data.keys()\n",
    "    for i, protein in enumerate(tqdm(proteins)):\n",
    "    \n",
    "        seq = seq_dict[protein]\n",
    "        ori_contact = get_contact(seq_dict[protein])\n",
    "\n",
    "        patch_start_list = previous_data[protein]\n",
    "\n",
    "        for patch_start in tqdm(patch_start_list):  \n",
    "            patch_end = patch_start + 22\n",
    "            flank_len_range = min(patch_start, len(seq) - patch_end + 1)\n",
    "\n",
    "            for flank_len in range(flank_len_range):\n",
    "                exclude_range = range(max(0, patch_start - 30), min(len(seq), patch_end + 30)) # avoid the 30aa around seg \n",
    "                potential_positions = [pos for pos in range(len(seq))\n",
    "                           if pos not in exclude_range\n",
    "                           and not (patch_start <= pos < patch_end)]\n",
    "\n",
    "                if len(potential_positions) < 2 * flank_len:\n",
    "                    print('not enough pos') \n",
    "                    break \n",
    "\n",
    "                # generate the randomly masked sequence\n",
    "                random_unmask_positions = random.sample(potential_positions, 2 * flank_len)\n",
    "                seq_mask = ['<mask>'] * len(seq) \n",
    "                for pos in random_unmask_positions:\n",
    "                    seq_mask[pos] = seq[pos]  \n",
    "                seq_mask[patch_start:patch_end] = seq[patch_start:patch_end]\n",
    "                seq_mask = ''.join(seq_mask)\n",
    "\n",
    "\n",
    "                mask_contact_full = get_contact(seq_mask)\n",
    "\n",
    "                ori_contact_seg = ori_contact[patch_start:patch_end, patch_start:patch_end]\n",
    "                mask_contact_seg = mask_contact_full[patch_start:patch_end, patch_start:patch_end]\n",
    "\n",
    "                norm_sum_mult_value = norm_sum_mult(ori_contact_seg, mask_contact_seg)\n",
    "\n",
    "                key0 = f'{protein}/{patch_start}/{flank_len}/ori_contact_full' \n",
    "                key1 = f'{protein}/{patch_start}/{flank_len}/mask_contact_full' \n",
    "                key2 = f'{protein}/{patch_start}/{flank_len}/ori_contact_seg' \n",
    "                key3 = f'{protein}/{patch_start}/{flank_len}/mask_contact_seg' \n",
    "                key4 = f'{protein}/{patch_start}/{flank_len}/norm_sum_mult_value' \n",
    "                key5 = f'{protein}/{patch_start}/{flank_len}/masked_seq'\n",
    "\n",
    "\n",
    "                f.create_dataset(key0, data=ori_contact)\n",
    "                f.create_dataset(key1, data=mask_contact_full)\n",
    "                f.create_dataset(key2, data=ori_contact_seg)\n",
    "                f.create_dataset(key3, data=mask_contact_seg)\n",
    "                f.create_dataset(key4, data=norm_sum_mult_value)\n",
    "                f.create_dataset(key5, data=seq_mask)\n",
    "                    \n",
    "            if i % 300 == 0:\n",
    "                f.flush()\n",
    "                shutil.copy(save_file_path, save_file_path.split('.')[0] + '_' + str(i) + '.hdf5')\n",
    "                time.sleep(20)\n",
    "\n",
    "torch.cuda.empty_cache()"
   ]
  },
  {
   "cell_type": "code",
   "execution_count": null,
   "id": "ff6f98bd-8eeb-47cd-b2aa-10f815d14088",
   "metadata": {},
   "outputs": [],
   "source": []
  }
 ],
 "metadata": {
  "kernelspec": {
   "display_name": "so_covar",
   "language": "python",
   "name": "so_covar"
  },
  "language_info": {
   "codemirror_mode": {
    "name": "ipython",
    "version": 3
   },
   "file_extension": ".py",
   "mimetype": "text/x-python",
   "name": "python",
   "nbconvert_exporter": "python",
   "pygments_lexer": "ipython3",
   "version": "3.9.16"
  }
 },
 "nbformat": 4,
 "nbformat_minor": 5
}
