{
 "cells": [
  {
   "cell_type": "code",
   "execution_count": 1,
   "id": "7af9496f-9996-422c-ba27-1ae54ac5379e",
   "metadata": {
    "tags": []
   },
   "outputs": [],
   "source": [
    "import os\n",
    "os.environ[\"CUDA_VISIBLE_DEVICES\"] = '3'"
   ]
  },
  {
   "cell_type": "code",
   "execution_count": 2,
   "id": "905aabfc-f657-4637-987a-987078e43167",
   "metadata": {
    "tags": []
   },
   "outputs": [],
   "source": [
    "import esm\n",
    "import torch\n",
    "import matplotlib.pyplot as plt\n",
    "from tqdm import tqdm \n",
    "import numpy as np \n",
    "import h5py\n",
    "import json\n",
    "import re\n",
    "import shutil\n",
    "import random\n",
    "import time"
   ]
  },
  {
   "cell_type": "code",
   "execution_count": 3,
   "id": "8cd4950d-1cbb-44bd-ae2c-9beba2a183d4",
   "metadata": {
    "tags": []
   },
   "outputs": [],
   "source": [
    "esm_transformer, esm2_alphabet = esm.pretrained.esm2_t36_3B_UR50D()\n",
    "batch_converter = esm2_alphabet.get_batch_converter()"
   ]
  },
  {
   "cell_type": "code",
   "execution_count": 4,
   "id": "c559d141-0f4d-4e53-b9c1-c1fd2b05ab77",
   "metadata": {
    "tags": []
   },
   "outputs": [],
   "source": [
    "device = torch.device('cuda:0' if torch.cuda.is_available() else 'cpu')\n",
    "esm_transformer = esm_transformer.to(device)"
   ]
  },
  {
   "cell_type": "code",
   "execution_count": 5,
   "id": "3e477dc2-d215-4138-8885-78724f1ac3b0",
   "metadata": {
    "tags": []
   },
   "outputs": [],
   "source": [
    "with open('../data/full_seq_dict.json', \"r\") as json_file:\n",
    "    seq_dict = json.load(json_file)\n",
    "\n",
    "with open('../data/selected_protein.json', 'r') as file:\n",
    "    selected_protein = json.load(file)"
   ]
  },
  {
   "cell_type": "code",
   "execution_count": 6,
   "id": "af409228-e833-463c-b4ad-9f6b7e9a6a0c",
   "metadata": {
    "tags": []
   },
   "outputs": [],
   "source": [
    "def get_contact(seq): \n",
    "    seq_tuple = [(1, seq)]\n",
    "    batch_labels, batch_strs, batch_tokens = batch_converter(seq_tuple)\n",
    "    batch_tokens = torch.cat((torch.full((batch_tokens.shape[0], 1), 32), batch_tokens[:, 1:-1], torch.full((batch_tokens.shape[0], 1), 32)), dim=1)\n",
    "    batch_tokens = batch_tokens.to(device)\n",
    "    with torch.no_grad():\n",
    "        esm2_predictions = esm_transformer.predict_contacts(batch_tokens)[0].cpu()\n",
    "    return esm2_predictions.numpy()"
   ]
  },
  {
   "cell_type": "code",
   "execution_count": 8,
   "id": "b8b78037-c00a-4492-8fbc-2ceaf36d6e35",
   "metadata": {
    "tags": []
   },
   "outputs": [],
   "source": [
    "def diverse_sample(lst, k):\n",
    "    sorted_lst = sorted(lst)\n",
    "    sampled = [random.choice(sorted_lst)]  # start by picking one element randomly\n",
    "    for _ in range(k - 1):\n",
    "        next_item = max(sorted_lst, key=lambda x: min(abs(x - s) for s in sampled))\n",
    "        sampled.append(next_item)\n",
    "        sorted_lst.remove(next_item)  \n",
    "    return sampled"
   ]
  },
  {
   "cell_type": "code",
   "execution_count": 14,
   "id": "5a192fb7-27cc-48de-935d-5e74727c49b2",
   "metadata": {
    "tags": []
   },
   "outputs": [],
   "source": [
    "def find_diagonal_patches(matrix, size=11, sample_numb=3):\n",
    "    patches = []\n",
    "\n",
    "    for i in range(len(matrix) - size + 1):\n",
    "        \n",
    "        sub_matrix = matrix[i: i + size, i + size + 5: i + 5 + 2 * size] \n",
    "        \n",
    "        if np.sum(sub_matrix) > 10:\n",
    "            patches.append(i)\n",
    "    \n",
    "    if patches:  \n",
    "        sampled_patches = diverse_sample(patches, min(sample_numb, len(patches))) \n",
    "        return sampled_patches\n",
    "    else: \n",
    "        return []"
   ]
  },
  {
   "cell_type": "code",
   "execution_count": 15,
   "id": "4a8c2b58-a9dd-4ed3-a433-6cf255ca7d5c",
   "metadata": {
    "tags": []
   },
   "outputs": [],
   "source": [
    "def patch_plotting(ori_contact): \n",
    "    plt.imshow(ori_contact, cmap=\"Greys\",vmin=0,vmax=1)\n",
    "\n",
    "    x_line = np.arange(0, ori_contact.shape[0])\n",
    "    y_line = x_line + 5\n",
    "    plt.plot(x_line, y_line, color='blue', linewidth=1)\n",
    "\n",
    "    patches = find_diagonal_patches(ori_contact)\n",
    "    for patch in patches:\n",
    "        plt.gca().add_patch(plt.Rectangle((patch, patch + 11 + 5), 11, 11, linewidth=1, edgecolor='orange', facecolor='none'))\n",
    "\n",
    "    plt.colorbar()\n",
    "    plt.show()"
   ]
  },
  {
   "cell_type": "code",
   "execution_count": 16,
   "id": "b34e36b4-a346-4c5f-a50f-a13cf0b1e7ef",
   "metadata": {
    "tags": []
   },
   "outputs": [
    {
     "name": "stderr",
     "output_type": "stream",
     "text": [
      "100%|██████████| 1431/1431 [03:53<00:00,  6.14it/s]\n"
     ]
    },
    {
     "ename": "NameError",
     "evalue": "name 'previous_data' is not defined",
     "output_type": "error",
     "traceback": [
      "\u001b[0;31m---------------------------------------------------------------------------\u001b[0m",
      "\u001b[0;31mNameError\u001b[0m                                 Traceback (most recent call last)",
      "Cell \u001b[0;32mIn[16], line 12\u001b[0m\n\u001b[1;32m      8\u001b[0m         \u001b[38;5;28;01mcontinue\u001b[39;00m \n\u001b[1;32m     10\u001b[0m     patch_info[protein] \u001b[38;5;241m=\u001b[39m patches \n\u001b[0;32m---> 12\u001b[0m \u001b[38;5;28;01mwith\u001b[39;00m \u001b[38;5;28mopen\u001b[39m(\u001b[38;5;124m'\u001b[39m\u001b[38;5;124m../data/revision_single_seg_reproduce.json\u001b[39m\u001b[38;5;124m'\u001b[39m, \u001b[38;5;124m'\u001b[39m\u001b[38;5;124mw\u001b[39m\u001b[38;5;124m'\u001b[39m) \u001b[38;5;28;01mas\u001b[39;00m json_file: json\u001b[38;5;241m.\u001b[39mdump(previous_data, json_file)\n",
      "\u001b[0;31mNameError\u001b[0m: name 'previous_data' is not defined"
     ]
    }
   ],
   "source": [
    "patch_info = {}\n",
    "\n",
    "for protein in tqdm(selected_protein): \n",
    "    ori_contact = get_contact(seq_dict[protein])\n",
    "    #patch_plotting(ori_contact)\n",
    "    patches = find_diagonal_patches(ori_contact)\n",
    "    if not patches: \n",
    "        continue \n",
    "        \n",
    "    patch_info[protein] = patches "
   ]
  },
  {
   "cell_type": "code",
   "execution_count": 17,
   "id": "b1bd0be5-bb36-424d-86d9-cbf0f92bb185",
   "metadata": {
    "tags": []
   },
   "outputs": [],
   "source": [
    "with open('../data/revision_single_seg_reproduce.json', 'w') as json_file: json.dump(patch_info, json_file)"
   ]
  },
  {
   "cell_type": "code",
   "execution_count": null,
   "id": "ff6f98bd-8eeb-47cd-b2aa-10f815d14088",
   "metadata": {},
   "outputs": [],
   "source": []
  }
 ],
 "metadata": {
  "kernelspec": {
   "display_name": "so_covar",
   "language": "python",
   "name": "so_covar"
  },
  "language_info": {
   "codemirror_mode": {
    "name": "ipython",
    "version": 3
   },
   "file_extension": ".py",
   "mimetype": "text/x-python",
   "name": "python",
   "nbconvert_exporter": "python",
   "pygments_lexer": "ipython3",
   "version": "3.9.16"
  }
 },
 "nbformat": 4,
 "nbformat_minor": 5
}
