{
 "cells": [
  {
   "cell_type": "code",
   "execution_count": 1,
   "id": "7af9496f-9996-422c-ba27-1ae54ac5379e",
   "metadata": {
    "tags": []
   },
   "outputs": [],
   "source": [
    "import os\n",
    "os.environ[\"CUDA_VISIBLE_DEVICES\"] = '1'"
   ]
  },
  {
   "cell_type": "code",
   "execution_count": 2,
   "id": "905aabfc-f657-4637-987a-987078e43167",
   "metadata": {
    "tags": []
   },
   "outputs": [],
   "source": [
    "import esm\n",
    "import torch\n",
    "import matplotlib.pyplot as plt\n",
    "from tqdm import tqdm \n",
    "import numpy as np \n",
    "import h5py\n",
    "import json\n",
    "import re\n",
    "import shutil\n",
    "import random\n",
    "import time"
   ]
  },
  {
   "cell_type": "code",
   "execution_count": 3,
   "id": "8cd4950d-1cbb-44bd-ae2c-9beba2a183d4",
   "metadata": {
    "tags": []
   },
   "outputs": [],
   "source": [
    "esm_transformer, esm2_alphabet = esm.pretrained.esm2_t36_3B_UR50D()\n",
    "batch_converter = esm2_alphabet.get_batch_converter()"
   ]
  },
  {
   "cell_type": "code",
   "execution_count": 4,
   "id": "c559d141-0f4d-4e53-b9c1-c1fd2b05ab77",
   "metadata": {
    "tags": []
   },
   "outputs": [],
   "source": [
    "device = torch.device('cuda:0' if torch.cuda.is_available() else 'cpu')\n",
    "esm_transformer = esm_transformer.to(device)"
   ]
  },
  {
   "cell_type": "code",
   "execution_count": 5,
   "id": "3e477dc2-d215-4138-8885-78724f1ac3b0",
   "metadata": {
    "tags": []
   },
   "outputs": [],
   "source": [
    "with open('data/full_seq_dict.json', \"r\") as json_file:\n",
    "    seq_dict = json.load(json_file)\n",
    "\n",
    "with open('data/selected_protein.json', 'r') as file:\n",
    "    selected_protein = json.load(file)"
   ]
  },
  {
   "cell_type": "code",
   "execution_count": 6,
   "id": "0ef340d3-e3fb-459d-bcad-87637f0caada",
   "metadata": {
    "tags": []
   },
   "outputs": [],
   "source": [
    "save_file_path = '../results/single_seg_w_bos_eos.hdf5'"
   ]
  },
  {
   "cell_type": "code",
   "execution_count": 7,
   "id": "af409228-e833-463c-b4ad-9f6b7e9a6a0c",
   "metadata": {
    "tags": []
   },
   "outputs": [],
   "source": [
    "def get_contact(seq): \n",
    "    seq_tuple = [(1, seq)]\n",
    "    batch_labels, batch_strs, batch_tokens = batch_converter(seq_tuple)\n",
    "    #batch_tokens = torch.cat((torch.full((batch_tokens.shape[0], 1), 32), batch_tokens[:, 1:-1], torch.full((batch_tokens.shape[0], 1), 32)), dim=1)\n",
    "    batch_tokens = batch_tokens.to(device)\n",
    "    with torch.no_grad():\n",
    "        esm2_predictions = esm_transformer.predict_contacts(batch_tokens)[0].cpu()\n",
    "    return esm2_predictions.numpy()"
   ]
  },
  {
   "cell_type": "code",
   "execution_count": 8,
   "id": "a3148e30-2929-4232-aa0b-bd2584ad79ee",
   "metadata": {
    "tags": []
   },
   "outputs": [],
   "source": [
    "def norm_sum_mult(ori_contact_seg, seg_cross_contact):\n",
    "    ori_mult_new = np.multiply(ori_contact_seg, seg_cross_contact)\n",
    "    ori_mult_ori = np.multiply(ori_contact_seg, ori_contact_seg)\n",
    "    return (np.sum(ori_mult_new)/np.sum(ori_mult_ori))"
   ]
  },
  {
   "cell_type": "code",
   "execution_count": 13,
   "id": "61780a18-899f-4ea5-b74f-2d730b97b635",
   "metadata": {
    "tags": []
   },
   "outputs": [],
   "source": [
    "previous_data = {}\n",
    "\n",
    "with h5py.File('../results/w_bos_eos.hdf5', 'r') as f:\n",
    "    for protein in f.keys():\n",
    "        patch_starts = []\n",
    "        for patch_start in f[protein].keys():\n",
    "            patch_starts.append(int(patch_start))\n",
    "        previous_data[protein] = patch_starts "
   ]
  },
  {
   "cell_type": "code",
   "execution_count": 16,
   "id": "043726b1-23ab-4dc8-81b4-281b0e76d174",
   "metadata": {
    "tags": []
   },
   "outputs": [],
   "source": [
    "with open('../data/reproduce_single_recovery_w_bos_eos.json', 'w') as json_file:\n",
    "    json.dump(previous_data, json_file)"
   ]
  },
  {
   "cell_type": "code",
   "execution_count": 20,
   "id": "87966cdf-71eb-454a-9bf6-17b09eacbd8f",
   "metadata": {
    "tags": []
   },
   "outputs": [
    {
     "name": "stdout",
     "output_type": "stream",
     "text": [
      "{'1A8LA': [31, 48, 92], '1BYIA': [136, 177, 80]}\n"
     ]
    }
   ],
   "source": [
    "# for a quick test\n",
    "keys_for_test = ['1A8LA', '1BYIA']\n",
    "test_dict = {key: previous_data[key] for key in keys_for_test if key in previous_data}\n",
    "print(test_dict)"
   ]
  },
  {
   "cell_type": "code",
   "execution_count": 25,
   "id": "40aaf082-fedd-401a-8d03-265fe5a6f6e7",
   "metadata": {
    "tags": []
   },
   "outputs": [
    {
     "name": "stderr",
     "output_type": "stream",
     "text": [
      "  0%|          | 0/2 [00:00<?, ?it/s]\n",
      "  0%|          | 0/3 [00:00<?, ?it/s]\u001b[A\n",
      " 33%|███▎      | 1/3 [00:03<00:06,  3.45s/it]\u001b[A\n",
      " 67%|██████▋   | 2/3 [00:08<00:04,  4.56s/it]\u001b[A\n",
      "100%|██████████| 3/3 [00:19<00:00,  6.34s/it]\u001b[A\n",
      " 50%|█████     | 1/2 [00:19<00:19, 19.15s/it]\n",
      "  0%|          | 0/3 [00:00<?, ?it/s]\u001b[A\n",
      " 33%|███▎      | 1/3 [00:07<00:14,  7.44s/it]\u001b[A\n",
      " 67%|██████▋   | 2/3 [00:10<00:04,  4.76s/it]\u001b[A\n",
      "100%|██████████| 3/3 [00:19<00:00,  6.40s/it]\u001b[A\n",
      "100%|██████████| 2/2 [00:38<00:00, 19.24s/it]\n"
     ]
    }
   ],
   "source": [
    "with h5py.File(save_file_path, 'w') as f:\n",
    "    proteins = test_dict.keys()\n",
    "    #proteins = previous_data.keys()\n",
    "    for protein in tqdm(proteins):\n",
    "            seq = seq_dict[protein]\n",
    "            ori_contact = get_contact(seq_dict[protein])\n",
    "            \n",
    "            patch_start_list = previous_data[protein]\n",
    "            \n",
    "            for patch_start in tqdm(patch_start_list):  \n",
    "                patch_end = patch_start + 22\n",
    "                flank_len_range = min(patch_start, len(seq) - patch_end + 1)\n",
    "                \n",
    "                for flank_len in range(flank_len_range):\n",
    "                    seg_start = patch_start - flank_len \n",
    "                    seg_end = patch_end + flank_len \n",
    "                    seq_mask = seg_start *'<mask>' + seq[seg_start:seg_end] + len(seq[seg_end:])*'<mask>'\n",
    "\n",
    "                    mask_contact_full = get_contact(seq_mask)\n",
    "\n",
    "                    ori_contact_seg = ori_contact[patch_start:patch_end, patch_start:patch_end]\n",
    "                    mask_contact_seg = mask_contact_full[patch_start:patch_end, patch_start:patch_end]\n",
    "\n",
    "                    norm_sum_mult_value = norm_sum_mult(ori_contact_seg, mask_contact_seg)\n",
    "                    \n",
    "                    key0 = f'{protein}/{patch_start}/{flank_len}/ori_contact_full' \n",
    "                    key1 = f'{protein}/{patch_start}/{flank_len}/mask_contact_full' \n",
    "                    key2 = f'{protein}/{patch_start}/{flank_len}/ori_contact_seg' \n",
    "                    key3 = f'{protein}/{patch_start}/{flank_len}/mask_contact_seg' \n",
    "                    key4 = f'{protein}/{patch_start}/{flank_len}/norm_sum_mult_value' \n",
    "\n",
    "                    f.create_dataset(key0, data=ori_contact)\n",
    "                    f.create_dataset(key1, data=mask_contact_full)\n",
    "                    f.create_dataset(key2, data=ori_contact_seg)\n",
    "                    f.create_dataset(key3, data=mask_contact_seg)\n",
    "                    f.create_dataset(key4, data=norm_sum_mult_value)"
   ]
  },
  {
   "cell_type": "code",
   "execution_count": null,
   "id": "ff6f98bd-8eeb-47cd-b2aa-10f815d14088",
   "metadata": {},
   "outputs": [],
   "source": []
  }
 ],
 "metadata": {
  "kernelspec": {
   "display_name": "so_covar",
   "language": "python",
   "name": "so_covar"
  },
  "language_info": {
   "codemirror_mode": {
    "name": "ipython",
    "version": 3
   },
   "file_extension": ".py",
   "mimetype": "text/x-python",
   "name": "python",
   "nbconvert_exporter": "python",
   "pygments_lexer": "ipython3",
   "version": "3.9.16"
  }
 },
 "nbformat": 4,
 "nbformat_minor": 5
}
