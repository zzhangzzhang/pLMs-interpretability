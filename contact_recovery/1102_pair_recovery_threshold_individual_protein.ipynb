{
 "cells": [
  {
   "cell_type": "code",
   "execution_count": 2,
   "id": "bb321b2e-d74e-49b5-939f-7e12928497db",
   "metadata": {
    "tags": []
   },
   "outputs": [],
   "source": [
    "import h5py\n",
    "import matplotlib.pyplot as plt\n",
    "from collections import defaultdict\n",
    "import numpy as np\n",
    "import math "
   ]
  },
  {
   "cell_type": "code",
   "execution_count": 3,
   "id": "2146a205-1674-4800-a9f7-44dcf67422e6",
   "metadata": {
    "tags": []
   },
   "outputs": [],
   "source": [
    "file_path = '../results/high_gremline_mask_100_outward_wbos_eos.hdf5'"
   ]
  },
  {
   "cell_type": "code",
   "execution_count": 7,
   "id": "62772a3c-0688-4447-968b-89d95517339c",
   "metadata": {
    "tags": []
   },
   "outputs": [
    {
     "data": {
      "image/png": "[encoded data removed]",
      "text/plain": [
       "<Figure size 2000x300 with 1 Axes>"
      ]
     },
     "metadata": {},
     "output_type": "display_data"
    }
   ],
   "source": [
    "# Initialize a dictionary to store sum_mult for each protein, flank_len and position\n",
    "protein_to_position_to_flank_len_to_values = defaultdict(lambda: defaultdict(lambda: defaultdict(list)))\n",
    "\n",
    "# Load the hdf5 file\n",
    "with h5py.File(file_path, 'r') as f:\n",
    "    protein_name = '1PVGA' \n",
    "    positions = list(f[protein_name].keys())\n",
    "\n",
    "    for position in positions:\n",
    "        flank_lens = list(f[f\"{protein_name}/{position}\"].keys())\n",
    "        flank_len_values = [int(fl.split('/')[0]) for fl in flank_lens]  # get flank lengths as integers\n",
    "\n",
    "        # Collect sum_mult for each flank_len and position\n",
    "        for fl, fl_value in zip(flank_lens, flank_len_values):\n",
    "            sum_mult = f[f\"{protein_name}/{position}/{fl}/sum_mult\"][()]\n",
    "            protein_to_position_to_flank_len_to_values[protein_name][position][fl_value].append(sum_mult)\n",
    "\n",
    "\n",
    "\n",
    "# Calculate the number of rows needed for the subplots\n",
    "n = len(protein_to_position_to_flank_len_to_values)\n",
    "n_cols = 6\n",
    "n_rows = math.ceil(n / n_cols)\n",
    "\n",
    "# Create subplots\n",
    "fig, axs = plt.subplots(n_rows, n_cols, figsize=(20, 3*n_rows))\n",
    "\n",
    "# Flatten axs for easy iteration\n",
    "axs = axs.flatten()\n",
    "\n",
    "for i, (protein_name, position_to_flank_len_to_values) in enumerate(protein_to_position_to_flank_len_to_values.items()):\n",
    "    for position, flank_len_to_values in position_to_flank_len_to_values.items():\n",
    "        # Prepare data for plotting\n",
    "        flank_lengths = sorted(flank_len_to_values.keys())\n",
    "        sum_mult_values = [value for fl in flank_lengths for value in flank_len_to_values[fl]]  # Flatten list\n",
    "\n",
    "        # Plot the data points connected by lines\n",
    "        axs[i].plot([fl for fl in flank_lengths for _ in flank_len_to_values[fl]],  # Repeat each normalized flank length for the number of corresponding sum_mult values\n",
    "                 sum_mult_values, marker='o', label=str(int(position.split('_')[0]) + 1) + '_' + str(int(position.split('_')[1]) + 1))\n",
    "\n",
    "    axs[i].set_title(protein_name)\n",
    "    axs[i].set_xlabel('Flank length')\n",
    "    axs[i].set_ylabel('Recovery')\n",
    "    axs[i].set_xlim(0, 100)\n",
    "    axs[i].set_ylim(-0.2, 1.2)\n",
    "    axs[i].legend(loc='upper left')\n",
    "\n",
    "# Delete unused subplots\n",
    "for j in range(i+1, n_rows*n_cols):\n",
    "    fig.delaxes(axs[j])\n",
    "\n",
    "plt.tight_layout()\n",
    "#plt.title(name)\n",
    "#plt.savefig(file_path.split('.')[0] + '.jpg')\n",
    "plt.savefig('figures_manuscript/' + protein_name + '_recovery.svg')\n",
    "plt.show()"
   ]
  },
  {
   "cell_type": "code",
   "execution_count": null,
   "id": "f4b23b9a-724f-47bc-a297-ae02d7e488d5",
   "metadata": {},
   "outputs": [],
   "source": []
  }
 ],
 "metadata": {
  "kernelspec": {
   "display_name": "esmfold",
   "language": "python",
   "name": "esmfold"
  },
  "language_info": {
   "codemirror_mode": {
    "name": "ipython",
    "version": 3
   },
   "file_extension": ".py",
   "mimetype": "text/x-python",
   "name": "python",
   "nbconvert_exporter": "python",
   "pygments_lexer": "ipython3",
   "version": "3.7.12"
  }
 },
 "nbformat": 4,
 "nbformat_minor": 5
}
