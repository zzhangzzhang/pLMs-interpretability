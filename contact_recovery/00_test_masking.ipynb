{
 "cells": [
  {
   "cell_type": "code",
   "execution_count": 1,
   "id": "fbc029f1-35b0-4c37-a50f-5796f8d86b7f",
   "metadata": {
    "tags": []
   },
   "outputs": [
    {
     "name": "stdout",
     "output_type": "stream",
     "text": [
      "2\n",
      "8\n",
      "<mask><mask>234567<mask><mask><mask><mask><mask><mask><mask><mask><mask><mask><mask><mask><mask><mask><mask><mask><mask><mask><mask><mask><mask><mask><mask><mask>\n",
      "45\n"
     ]
    }
   ],
   "source": [
    "seq = '0123456789-0123456789-0123456789' \n",
    "patch_start = 4 \n",
    "patch_end = 6 \n",
    "flank_len = 2\n",
    "\n",
    "seg_start = patch_start - flank_len \n",
    "print(seg_start)\n",
    "seg_end = patch_end + flank_len \n",
    "print(seg_end)\n",
    "seq_mask = seg_start *'<mask>' + seq[seg_start:seg_end] + len(seq[seg_end:])*'<mask>'\n",
    "print(seq_mask)\n",
    "print(seq[patch_start:patch_end])"
   ]
  },
  {
   "cell_type": "code",
   "execution_count": 2,
   "id": "af7e77de-72c7-4ceb-81ac-c3d6fc878501",
   "metadata": {
    "tags": []
   },
   "outputs": [
    {
     "data": {
      "text/plain": [
       "'<mask><mask><mask><mask>45<mask><mask><mask><mask><mask><mask><mask><mask><mask><mask><mask><mask><mask>8<mask><mask>0<mask>2<mask><mask>5<mask><mask><mask><mask>'"
      ]
     },
     "execution_count": 2,
     "metadata": {},
     "output_type": "execute_result"
    }
   ],
   "source": [
    "import random\n",
    "potential_positions = list(range(0, patch_start)) + list(range(patch_end, len(seq)))\n",
    "num_positions_to_unmask = 2 * flank_len\n",
    "random_unmask_positions = random.sample(potential_positions, num_positions_to_unmask)\n",
    "\n",
    "seq_mask = ['<mask>'] * len(seq) \n",
    "for pos in random_unmask_positions:\n",
    "    seq_mask[pos] = seq[pos]  # Unmask randomly selected positions\n",
    "seq_mask[patch_start:patch_end] = seq[patch_start:patch_end]  # Unmask the central segment\n",
    "\n",
    "# Convert list back to string\n",
    "seq_mask = ''.join(seq_mask)\n",
    "seq_mask"
   ]
  },
  {
   "cell_type": "code",
   "execution_count": 6,
   "id": "0117035d-5163-4d50-a4af-a7a1b4d62677",
   "metadata": {
    "tags": []
   },
   "outputs": [
    {
     "name": "stdout",
     "output_type": "stream",
     "text": [
      "<mask><mask><mask><mask>45<mask><mask><mask><mask><mask><mask><mask><mask><mask><mask><mask><mask><mask><mask><mask><mask><mask><mask><mask><mask><mask><mask><mask><mask><mask><mask>\n",
      "<mask><mask><mask><mask>45<mask><mask><mask><mask>-<mask><mask><mask><mask><mask><mask><mask><mask>8<mask><mask><mask><mask><mask><mask><mask><mask><mask><mask><mask><mask>\n",
      "<mask><mask><mask><mask>45<mask><mask><mask><mask><mask><mask><mask><mask><mask><mask><mask>67<mask><mask>-<mask><mask><mask><mask><mask><mask>6<mask><mask><mask>\n",
      "<mask><mask><mask><mask>45<mask><mask><mask><mask><mask><mask>1<mask>3<mask><mask><mask><mask><mask><mask>-<mask><mask><mask><mask><mask><mask>678<mask>\n",
      "0<mask><mask><mask>45<mask><mask><mask>9<mask><mask>1<mask>3<mask><mask><mask>7<mask><mask><mask><mask><mask><mask>3<mask>5<mask><mask>8<mask>\n",
      "0<mask><mask><mask>45<mask><mask><mask><mask><mask>01<mask><mask><mask><mask><mask>78<mask><mask><mask>1<mask><mask>4<mask><mask>789\n",
      "0<mask><mask><mask>45<mask><mask><mask><mask><mask><mask>1<mask><mask>45<mask>789<mask>0<mask><mask>3456<mask><mask><mask>\n",
      "0<mask><mask><mask>45<mask><mask><mask>9-0<mask><mask>34<mask><mask>7<mask><mask>-01<mask><mask><mask><mask>6789\n",
      "0<mask><mask><mask>45<mask><mask><mask><mask><mask>01<mask>3456789-0<mask>23<mask><mask><mask><mask>89\n",
      "0<mask><mask><mask>45<mask><mask><mask>9-<mask>123456789<mask><mask><mask>23<mask>56<mask>89\n",
      "0<mask><mask><mask>45<mask><mask><mask>9-0123<mask>56789-0<mask>2<mask>45678<mask>\n",
      "0<mask><mask><mask>45<mask><mask><mask>9-012<mask>456789-01234567<mask>9\n",
      "0<mask><mask><mask>45<mask><mask><mask>9-0123456789-0123456789\n",
      "not enough pos\n"
     ]
    }
   ],
   "source": [
    "for flank_len in range(15):\n",
    "    exclude_range = range(max(0, patch_start - 3), min(len(seq), patch_end + 3))\n",
    "\n",
    "    potential_positions = [pos for pos in range(len(seq))\n",
    "                           if pos not in exclude_range\n",
    "                           and not (patch_start <= pos < patch_end)]\n",
    "\n",
    "\n",
    "    if len(potential_positions) < 2 * flank_len:\n",
    "        print('not enough pos') \n",
    "        break  \n",
    "\n",
    "    random_unmask_positions = random.sample(potential_positions, 2 * flank_len)\n",
    "\n",
    "    seq_mask = ['<mask>'] * len(seq)\n",
    "    for pos in random_unmask_positions:\n",
    "        seq_mask[pos] = seq[pos]\n",
    "    seq_mask[patch_start:patch_end] = seq[patch_start:patch_end]\n",
    "    seq_mask = ''.join(seq_mask)\n",
    "    print(seq_mask)"
   ]
  },
  {
   "cell_type": "markdown",
   "id": "0ed59ac9-b48b-4a75-b605-846f3f962f3e",
   "metadata": {},
   "source": [
    "# pair "
   ]
  },
  {
   "cell_type": "code",
   "execution_count": 4,
   "id": "11b2dee6-5cc4-4981-9f73-fc5e9dc3bf81",
   "metadata": {
    "tags": []
   },
   "outputs": [
    {
     "data": {
      "text/plain": [
       "'0123456789-0123456789-0123456789'"
      ]
     },
     "execution_count": 4,
     "metadata": {},
     "output_type": "execute_result"
    }
   ],
   "source": [
    "seq"
   ]
  },
  {
   "cell_type": "code",
   "execution_count": 5,
   "id": "b1b43493-e6cc-4747-a132-2abc7c149551",
   "metadata": {
    "tags": []
   },
   "outputs": [],
   "source": [
    "position = [2,6]\n",
    "ss_len_each_side = 1\n",
    "flank_len = 1 "
   ]
  },
  {
   "cell_type": "code",
   "execution_count": 6,
   "id": "d89e02d6-4a05-4761-887c-65352a9bc8d8",
   "metadata": {
    "tags": []
   },
   "outputs": [
    {
     "name": "stdout",
     "output_type": "stream",
     "text": [
      "0123\n",
      "5678\n",
      "0123<mask>5678<mask><mask><mask><mask><mask><mask><mask><mask><mask><mask><mask><mask><mask><mask><mask><mask><mask><mask><mask><mask><mask><mask><mask>\n"
     ]
    }
   ],
   "source": [
    "ss1_start = position[0] - ss_len_each_side \n",
    "ss1_end = position[0] + ss_len_each_side + 1 \n",
    "ss2_start = position[1] - ss_len_each_side \n",
    "ss2_end = position[1] + ss_len_each_side + 1 \n",
    "\n",
    "frag1_start = ss1_start - flank_len\n",
    "frag1_end = ss1_end\n",
    "frag2_start = ss2_start\n",
    "frag2_end = ss2_end + flank_len\n",
    "\n",
    "seg_seq_i = seq[frag1_start: frag1_end] \n",
    "print(seg_seq_i) \n",
    "seg_seq_j = seq[frag2_start: frag2_end] \n",
    "print(seg_seq_j) \n",
    "mask_length = frag2_start - frag1_end \n",
    "full_seq = frag1_start * '<mask>' + seg_seq_i + mask_length * '<mask>' + seg_seq_j + (len(seq) -  frag2_end) * '<mask>'\n",
    "print(full_seq)"
   ]
  },
  {
   "cell_type": "code",
   "execution_count": 7,
   "id": "87668724-7679-4e3c-bfba-ad7113231f1d",
   "metadata": {
    "tags": []
   },
   "outputs": [
    {
     "name": "stdout",
     "output_type": "stream",
     "text": [
      "<mask>123<mask>567<mask><mask><mask><mask><mask><mask><mask><mask>5<mask><mask><mask><mask><mask><mask><mask><mask><mask><mask><mask>6<mask><mask><mask>\n"
     ]
    }
   ],
   "source": [
    "potential_positions = list(range(0, ss1_start)) + \\\n",
    "                      list(range(ss1_end, ss2_start)) + \\\n",
    "                      list(range(ss2_end, len(seq)))\n",
    "random_unmask_positions = random.sample(potential_positions, 2*flank_len)\n",
    "\n",
    "seq_mask = ['<mask>'] * len(seq)\n",
    "for pos in random_unmask_positions:\n",
    "    seq_mask[pos] = seq[pos]\n",
    "seq_mask[ss1_start:ss1_end] = seq[ss1_start:ss1_end]\n",
    "seq_mask[ss2_start:ss2_end] = seq[ss2_start:ss2_end]\n",
    "\n",
    "seq_mask = ''.join(seq_mask)\n",
    "\n",
    "print(seq_mask)"
   ]
  },
  {
   "cell_type": "code",
   "execution_count": 18,
   "id": "df7cd3c4-04a4-4c5e-9cc5-5e099bd6f282",
   "metadata": {},
   "outputs": [
    {
     "name": "stdout",
     "output_type": "stream",
     "text": [
      "0\n",
      "<mask>123<mask>567<mask><mask><mask><mask><mask><mask><mask><mask><mask><mask><mask><mask><mask><mask><mask><mask><mask><mask><mask><mask><mask><mask><mask><mask>\n",
      "1\n",
      "<mask>123<mask>567<mask><mask><mask><mask><mask><mask><mask>4<mask>6<mask><mask><mask><mask><mask><mask><mask><mask><mask><mask><mask><mask><mask><mask>\n",
      "2\n",
      "<mask>123<mask>567<mask><mask><mask><mask><mask><mask><mask><mask>5<mask><mask>8<mask><mask><mask>1<mask><mask><mask>5<mask><mask><mask><mask>\n",
      "3\n",
      "<mask>123<mask>567<mask><mask><mask>01<mask><mask><mask><mask><mask>7<mask><mask><mask>0<mask><mask><mask>4<mask>6<mask><mask><mask>\n",
      "4\n",
      "<mask>123<mask>567<mask><mask><mask><mask>12<mask><mask><mask><mask><mask>89<mask>01<mask>34<mask><mask><mask><mask><mask>\n",
      "5\n",
      "<mask>123<mask>567<mask><mask><mask><mask>123<mask><mask>6<mask><mask><mask><mask><mask>1<mask>345<mask><mask>89\n",
      "6\n",
      "<mask>123<mask>567<mask><mask><mask>012<mask><mask><mask><mask><mask><mask><mask>-<mask>12<mask>456789\n",
      "7\n",
      "<mask>123<mask>567<mask><mask><mask>01<mask>3<mask><mask>6<mask>89-<mask><mask>2<mask>456789\n",
      "8\n",
      "<mask>123<mask>567<mask><mask><mask><mask>1<mask>3456789-<mask>123<mask>56<mask>89\n",
      "9\n",
      "<mask>123<mask>567<mask><mask><mask>01234<mask>67<mask>9-01234<mask>6789\n",
      "10\n",
      "<mask>123<mask>567<mask><mask><mask>0123456789-012345678<mask>\n",
      "11\n",
      "too much flank\n"
     ]
    }
   ],
   "source": [
    "for flank_len in range(15):\n",
    "    exclude_range1 = range(max(0, ss1_start - 3), min(len(seq), ss1_end + 3))\n",
    "    exclude_range2 = range(max(0, ss2_start - 3), min(len(seq), ss2_end + 3))\n",
    "\n",
    "    # Create a list of potential positions, excluding the specified ranges\n",
    "    potential_positions = [pos for pos in range(len(seq)) \n",
    "                           if pos not in exclude_range1 and pos not in exclude_range2 \n",
    "                           and not (ss1_start <= pos < ss1_end) \n",
    "                           and not (ss2_start <= pos < ss2_end)]\n",
    "\n",
    "    print(flank_len)\n",
    "    if len(potential_positions) < 2 * flank_len:\n",
    "        print('too much flank')\n",
    "        break\n",
    "\n",
    "    # Sample random positions to unmask\n",
    "    random_unmask_positions = random.sample(potential_positions, 2*flank_len)\n",
    "\n",
    "    # Create the mask\n",
    "    seq_mask = ['<mask>'] * len(seq)\n",
    "    for pos in random_unmask_positions:\n",
    "        seq_mask[pos] = seq[pos]\n",
    "    seq_mask[ss1_start:ss1_end] = seq[ss1_start:ss1_end]\n",
    "    seq_mask[ss2_start:ss2_end] = seq[ss2_start:ss2_end]\n",
    "    seq_mask = ''.join(seq_mask)\n",
    "    print(seq_mask)"
   ]
  },
  {
   "cell_type": "code",
   "execution_count": null,
   "id": "d8b79a1b-665f-4bf1-9989-7f5b9a10bee0",
   "metadata": {},
   "outputs": [],
   "source": []
  }
 ],
 "metadata": {
  "kernelspec": {
   "display_name": "so_covar",
   "language": "python",
   "name": "so_covar"
  },
  "language_info": {
   "codemirror_mode": {
    "name": "ipython",
    "version": 3
   },
   "file_extension": ".py",
   "mimetype": "text/x-python",
   "name": "python",
   "nbconvert_exporter": "python",
   "pygments_lexer": "ipython3",
   "version": "3.9.16"
  }
 },
 "nbformat": 4,
 "nbformat_minor": 5
}
