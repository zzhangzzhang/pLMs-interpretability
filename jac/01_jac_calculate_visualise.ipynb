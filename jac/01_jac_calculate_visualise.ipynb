{
 "cells": [
  {
   "cell_type": "markdown",
   "metadata": {
    "colab_type": "text",
    "id": "view-in-github"
   },
   "source": [
    "<a href=\"https://colab.research.google.com/github/sokrypton/algosb_2021/blob/main/BERT_esm1b.ipynb\" target=\"_parent\"><img src=\"https://colab.research.google.com/assets/colab-badge.svg\" alt=\"Open In Colab\"/></a>"
   ]
  },
  {
   "cell_type": "markdown",
   "metadata": {
    "id": "EDGBoR6zgZWx"
   },
   "source": [
    "install and load models"
   ]
  },
  {
   "cell_type": "code",
   "execution_count": null,
   "metadata": {
    "tags": []
   },
   "outputs": [],
   "source": [
    "import os \n",
    "import torch "
   ]
  },
  {
   "cell_type": "code",
   "execution_count": null,
   "metadata": {
    "tags": []
   },
   "outputs": [],
   "source": [
    "save_path = '../figures_manuscript/'"
   ]
  },
  {
   "cell_type": "code",
   "execution_count": null,
   "metadata": {
    "colab": {
     "base_uri": "https://localhost:8080/"
    },
    "id": "DtRKmskxgHfs",
    "outputId": "b3ee2963-1147-4d6d-f6b0-31c0a41fafff",
    "tags": []
   },
   "outputs": [],
   "source": [
    "name = '3B' \n",
    "model, alphabet = torch.hub.load(\"facebookresearch/esm:main\", \"esm2_t36_3B_UR50D\")"
   ]
  },
  {
   "cell_type": "code",
   "execution_count": null,
   "metadata": {
    "id": "3rfMdHYpg1Yl",
    "tags": []
   },
   "outputs": [],
   "source": [
    "# put model on GPU if available\n",
    "device = torch.device('cuda:0' if torch.cuda.is_available() else 'cpu')\n",
    "os.environ[\"CUDA_VISIBLE_DEVICES\"] = '1'\n",
    "model = model.to(device)\n",
    "model = model.eval()\n",
    "#model.args.token_dropout = False\n",
    "\n",
    "# alphabet size\n",
    "esm_alphabet_len = len(alphabet.all_toks)\n",
    "esm_alphabet= \"\".join(alphabet.all_toks[4:24])+\"-\""
   ]
  },
  {
   "cell_type": "code",
   "execution_count": null,
   "metadata": {
    "id": "9pfufI0YhRyz",
    "tags": []
   },
   "outputs": [],
   "source": [
    "import matplotlib.pyplot as plt\n",
    "import numpy as np\n",
    "from scipy.special import softmax\n",
    "from utils import *"
   ]
  },
  {
   "cell_type": "code",
   "execution_count": null,
   "metadata": {
    "colab": {
     "base_uri": "https://localhost:8080/"
    },
    "id": "l-eAmY8VhcXB",
    "outputId": "69794d50-0bd7-4f01-e983-f1a083afd223",
    "tags": []
   },
   "outputs": [],
   "source": [
    "# RL29_ECOLI (essential ribosomal protein from ECOLI)\n",
    "headers, seqs = parse_fasta(\"RL29.uni.1e-10.i8.i90c75.a3m\", a3m = True)\n",
    "msa = mk_msa(seqs, alphabet=esm_alphabet)\n",
    "seq = seqs[0] \n",
    "print(msa.shape)\n",
    "print(seq)"
   ]
  },
  {
   "cell_type": "code",
   "execution_count": null,
   "metadata": {
    "tags": []
   },
   "outputs": [],
   "source": [
    "plt.figure(figsize=(15,5))\n",
    "plt.title(\"pssm (msa.mean(0))\")\n",
    "plt.imshow(msa.mean(0)[...,:20].T, vmin=0, vmax=1, cmap=\"binary\")\n",
    "plt.yticks(range(20),esm_alphabet[:20])\n",
    "plt.xlabel(\"position\"); plt.ylabel(\"amino acid\")\n",
    "plt.show()"
   ]
  },
  {
   "cell_type": "code",
   "execution_count": null,
   "metadata": {
    "tags": []
   },
   "outputs": [],
   "source": [
    "def get_logits(seq):\n",
    "  x,ln = alphabet.get_batch_converter()([(\"seq\",seq)])[-1],len(seq)\n",
    "  with torch.no_grad():\n",
    "    f = lambda x: model(x)[\"logits\"][0,1:(ln+1),4:24].cpu().numpy()\n",
    "    x = x.to(device)\n",
    "    logits = f(x)\n",
    "    return logits\n",
    "\n",
    "def get_masked_logits(seq, p=None, get_pll=False):\n",
    "  x,ln = alphabet.get_batch_converter()([(None,seq)])[-1],len(seq)\n",
    "  if p is None: p = ln\n",
    "  with torch.no_grad():\n",
    "    def f(x):\n",
    "      fx = model(x)[\"logits\"][:,1:(ln+1),4:24]\n",
    "      return fx\n",
    "\n",
    "    logits = np.zeros((ln,20))\n",
    "    for n in range(0,ln,p):\n",
    "      m = min(n+p,ln)\n",
    "      x_h = torch.tile(torch.clone(x),[m-n,1])\n",
    "      for i in range(m-n):\n",
    "        x_h[i,n+i+1] = alphabet.mask_idx\n",
    "      fx_h = f(x_h.to(device))\n",
    "      for i in range(m-n):\n",
    "        logits[n+i] = fx_h[i,n+i].cpu().numpy()\n",
    "  if get_pll:\n",
    "    logits = np.log(softmax(logits,-1))\n",
    "    x = x.cpu().numpy()[0]\n",
    "    x = x[1:(ln+1)] - 4\n",
    "    return sum([logits[n,i] for n,i in enumerate(x)])\n",
    "  else:\n",
    "    return logits"
   ]
  },
  {
   "cell_type": "code",
   "execution_count": null,
   "metadata": {
    "tags": []
   },
   "outputs": [],
   "source": [
    "# get PSSM version 1\n",
    "plt.figure(figsize=(15,5))\n",
    "plt.title(\"pssm (softmax(esm(seq)['logits']))\")\n",
    "plt.imshow(softmax(get_logits(seq),-1).T, vmin=0, vmax=1, cmap=\"binary\")\n",
    "plt.yticks(range(20),esm_alphabet[:20])\n",
    "plt.show()"
   ]
  },
  {
   "cell_type": "code",
   "execution_count": null,
   "metadata": {
    "tags": []
   },
   "outputs": [],
   "source": [
    "plt.figure(figsize=(5,5))\n",
    "plt.scatter(softmax(get_logits(seq),-1),\n",
    "            msa.mean(0)[...,:20],s=10)\n",
    "plt.xlabel(\"esm-pssm (unmasked)\")\n",
    "plt.ylabel(\"natural-pssm\")\n",
    "plt.plot([0,1],[0,1],color=\"black\")\n",
    "plt.show()"
   ]
  },
  {
   "cell_type": "code",
   "execution_count": null,
   "metadata": {
    "tags": []
   },
   "outputs": [],
   "source": [
    "# get PSSM version 2\n",
    "# mask one position at a time\n",
    "plt.figure(figsize=(15,5))\n",
    "plt.title(\"pssm (esm-1b (masked))\")\n",
    "plt.imshow(softmax(get_masked_logits(seq),-1).T, cmap=\"binary\", vmin=0, vmax=1)\n",
    "plt.yticks(range(20),esm_alphabet[:20])\n",
    "plt.show()"
   ]
  },
  {
   "cell_type": "code",
   "execution_count": null,
   "metadata": {
    "tags": []
   },
   "outputs": [],
   "source": [
    "plt.figure(figsize=(5,5))\n",
    "plt.scatter(softmax(get_masked_logits(seq),-1),\n",
    "            msa.mean(0)[...,:20],s=10)\n",
    "plt.xlabel(\"esm-pssm (masked)\")\n",
    "plt.ylabel(\"natural-pssm\")\n",
    "plt.plot([0,1],[0,1],color=\"black\")\n",
    "plt.show()"
   ]
  },
  {
   "cell_type": "code",
   "execution_count": null,
   "metadata": {
    "tags": []
   },
   "outputs": [],
   "source": [
    "# pseudo-likelihood (higher better)\n",
    "get_masked_logits(seq, get_pll=True)"
   ]
  },
  {
   "cell_type": "code",
   "execution_count": null,
   "metadata": {
    "tags": []
   },
   "outputs": [],
   "source": [
    "def get_categorical_jacobian(seq):\n",
    "  # ∂in/∂out\n",
    "  x,ln = alphabet.get_batch_converter()([(\"seq\",seq)])[-1],len(seq)\n",
    "  with torch.no_grad():\n",
    "    f = lambda x: model(x)[\"logits\"][...,1:(ln+1),4:24].cpu().numpy()\n",
    "    fx = f(x.to(device))[0]\n",
    "    x = torch.tile(x,[20,1]).to(device)\n",
    "    fx_h = np.zeros((ln,20,ln,20))\n",
    "    for n in range(ln): # for each position\n",
    "      x_h = torch.clone(x)\n",
    "      x_h[:,n+1] = torch.arange(4,24) # mutate to all 20 aa\n",
    "      fx_h[n] = f(x_h)\n",
    "    return fx-fx_h"
   ]
  },
  {
   "cell_type": "code",
   "execution_count": null,
   "metadata": {
    "tags": []
   },
   "outputs": [],
   "source": [
    "# jacobian of the model\n",
    "jac = get_categorical_jacobian(seq)\n",
    "# center & symmetrize\n",
    "for i in range(4): jac -= jac.mean(i,keepdims=True)\n",
    "jac = (jac + jac.transpose(2,3,0,1))/2"
   ]
  },
  {
   "cell_type": "code",
   "execution_count": null,
   "metadata": {
    "tags": []
   },
   "outputs": [],
   "source": [
    "# inverse_covariance of natural msa\n",
    "tmp = inv_cov_jax(msa)\n",
    "L = len(seq)\n",
    "ic = tmp[\"ic\"].reshape(L,21,L,21)[:,:20,:,:20]"
   ]
  },
  {
   "cell_type": "code",
   "execution_count": null,
   "metadata": {
    "tags": []
   },
   "outputs": [],
   "source": [
    "idx = np.triu_indices(L,1)\n",
    "a = jac[idx[0],:,idx[1],:]\n",
    "b = ic[idx[0],:,idx[1],:]\n",
    "ORDER = tmp[\"apc\"][idx[0],idx[1]].argsort()[::-1]\n",
    "\n",
    "cutoff = msa.shape[1] # take top L contacts\n",
    "b_std = np.sqrt(np.square(b[ORDER[:cutoff]]).mean())\n",
    "mask = np.abs(b[ORDER[:cutoff]]) > b_std\n",
    "idx = np.triu_indices(L,1)\n",
    "plt.figure(figsize=(5,5))\n",
    "plt.scatter(a[ORDER[:cutoff]][mask],\n",
    "            b[ORDER[:cutoff]][mask],\n",
    "            s=5,alpha=0.5)\n",
    "plt.xlabel(\"jacobian of esm2-15B\")\n",
    "plt.ylabel(\"inverse-covariance of natural msa\")\n",
    "plt.plot([0,0],[-2,2],color=\"black\")\n",
    "plt.plot([-4,4],[0,0],color=\"black\")\n",
    "plt.savefig(save_path + name + '_msa_jac.jpg')\n",
    "plt.show()\n",
    "\n",
    "from scipy.stats import spearmanr\n",
    "spearmanr(a[ORDER[:cutoff]][mask].flatten(),\n",
    "          b[ORDER[:cutoff]][mask].flatten()).statistic"
   ]
  },
  {
   "cell_type": "code",
   "execution_count": null,
   "metadata": {
    "tags": []
   },
   "outputs": [],
   "source": [
    "#plt.savefig(save_path + name + '_msa_jac.jpg')"
   ]
  },
  {
   "cell_type": "code",
   "execution_count": null,
   "metadata": {
    "tags": []
   },
   "outputs": [],
   "source": [
    "jac.shape"
   ]
  },
  {
   "cell_type": "code",
   "execution_count": null,
   "metadata": {
    "tags": []
   },
   "outputs": [],
   "source": [
    "plt.figure(figsize=(5,5))\n",
    "plt.imshow(tmp[\"apc\"], cmap=\"Greys\")\n",
    "#plt.savefig(save_path + 'inv_cov_msa_greys.svg')\n",
    "plt.show()"
   ]
  },
  {
   "cell_type": "code",
   "execution_count": null,
   "metadata": {
    "tags": []
   },
   "outputs": [],
   "source": [
    "plt.figure(figsize=(5,5))\n",
    "plt.imshow(get_contacts(jac), cmap=\"Greys\")\n",
    "#plt.savefig(save_path + name + '_jac_greys.svg')\n",
    "plt.show()"
   ]
  },
  {
   "cell_type": "code",
   "execution_count": null,
   "metadata": {
    "tags": []
   },
   "outputs": [],
   "source": [
    "i = 9\n",
    "j = 12\n",
    "\n",
    "plt.figure(figsize=(5,5))\n",
    "plt.imshow(ic[i,:,j,:],vmin=-1.5,vmax=1.5,cmap=\"bwr_r\")\n",
    "plt.xticks(range(20),esm_alphabet[:20])\n",
    "plt.yticks(range(20),esm_alphabet[:20])\n",
    "#plt.savefig(save_path + 'msa_aadep.svg')\n",
    "plt.show()"
   ]
  },
  {
   "cell_type": "code",
   "execution_count": null,
   "metadata": {
    "tags": []
   },
   "outputs": [],
   "source": [
    "plt.figure(figsize=(5,5))\n",
    "plt.imshow(jac[i,:,j,:],vmin=-3,vmax=3,cmap=\"bwr_r\")\n",
    "plt.xticks(range(20),esm_alphabet[:20])\n",
    "plt.yticks(range(20),esm_alphabet[:20])\n",
    "plt.colorbar()\n",
    "#plt.savefig(save_path + name + '_jac_aadep.svg')\n",
    "plt.show()"
   ]
  }
 ],
 "metadata": {
  "accelerator": "GPU",
  "colab": {
   "authorship_tag": "ABX9TyMtUIoA0J1OPju2AsfFC58O",
   "include_colab_link": true,
   "name": "BERT_esm1b.ipynb",
   "provenance": []
  },
  "kernelspec": {
   "display_name": "so_covar",
   "language": "python",
   "name": "so_covar"
  },
  "language_info": {
   "codemirror_mode": {
    "name": "ipython",
    "version": 3
   },
   "file_extension": ".py",
   "mimetype": "text/x-python",
   "name": "python",
   "nbconvert_exporter": "python",
   "pygments_lexer": "ipython3",
   "version": "3.9.16"
  }
 },
 "nbformat": 4,
 "nbformat_minor": 4
}
