{
 "cells": [
  {
   "cell_type": "code",
   "execution_count": 2,
   "id": "c0a2e819-b1e8-41d2-bd2b-dd5d9e5cc2fd",
   "metadata": {
    "tags": []
   },
   "outputs": [
    {
     "name": "stderr",
     "output_type": "stream",
     "text": [
      "100%|██████████| 1431/1431 [1:02:46<00:00,  2.63s/it]\n"
     ]
    }
   ],
   "source": [
    "import pickle\n",
    "import numpy as np\n",
    "from scipy.stats import spearmanr\n",
    "import json\n",
    "from tqdm import tqdm\n",
    "\n",
    "# Load data\n",
    "with open('../data/shuffled_selected_protein.json', \"r\") as json_file:\n",
    "    shuffled = json.load(json_file)\n",
    "\n",
    "with open('../data/full_seq_dict.json', \"r\") as json_file:\n",
    "    seq_dict = json.load(json_file)\n",
    "\n",
    "def correlation_calculation(pdb, n_std):\n",
    "    try:\n",
    "        with open('../results/inv_cov_msa/' + pdb + '_inv_cov_msa.pkl', 'rb') as f:\n",
    "            msa_tmp = pickle.load(f)\n",
    "    \n",
    "        with open('../results/esm2_jac/' + pdb + '_esm2_jac.pkl', 'rb') as f:\n",
    "            jac = pickle.load(f)\n",
    "        \n",
    "        L = len(seq_dict[pdb])\n",
    "        ic = msa_tmp[\"ic\"].reshape(L, 21, L, 21)[:,:20,:,:20]\n",
    "        idx = np.triu_indices(L, 1)\n",
    "        a = jac[idx[0], :, idx[1], :]\n",
    "        b = ic[idx[0], :, idx[1], :]\n",
    "        ORDER = msa_tmp[\"apc\"][idx[0], idx[1]].argsort()[::-1]\n",
    "        cutoff = L\n",
    "        b_std = np.sqrt(np.square(b[ORDER[:cutoff]]).mean())\n",
    "        mask = np.abs(b[ORDER[:cutoff]]) > b_std * n_std\n",
    "\n",
    "        return spearmanr(a[ORDER[:cutoff]][mask].flatten(), b[ORDER[:cutoff]][mask].flatten()).statistic\n",
    "    except Exception as e:\n",
    "        print(f\"An error occurred with {pdb} for n_std={n_std}: {e}\")\n",
    "        return None\n",
    "\n",
    "cc_info = {}\n",
    "for pdb in tqdm(shuffled):\n",
    "    cc_info.setdefault(pdb, {})\n",
    "    for i in range(0, 5):\n",
    "        cc_info[pdb][i] = correlation_calculation(pdb, i)\n",
    "\n",
    "# Save results\n",
    "with open('../results/3B_L_std.json', 'w') as file:\n",
    "    json.dump(cc_info, file)\n"
   ]
  },
  {
   "cell_type": "code",
   "execution_count": null,
   "id": "40c892c8-9fb3-4ce7-b0dd-0a213927f9a3",
   "metadata": {},
   "outputs": [],
   "source": []
  }
 ],
 "metadata": {
  "kernelspec": {
   "display_name": "so_covar",
   "language": "python",
   "name": "so_covar"
  },
  "language_info": {
   "codemirror_mode": {
    "name": "ipython",
    "version": 3
   },
   "file_extension": ".py",
   "mimetype": "text/x-python",
   "name": "python",
   "nbconvert_exporter": "python",
   "pygments_lexer": "ipython3",
   "version": "3.9.16"
  }
 },
 "nbformat": 4,
 "nbformat_minor": 5
}
