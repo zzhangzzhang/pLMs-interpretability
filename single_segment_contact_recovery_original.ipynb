{
 "cells": [
  {
   "cell_type": "code",
   "execution_count": 1,
   "id": "7af9496f-9996-422c-ba27-1ae54ac5379e",
   "metadata": {
    "tags": []
   },
   "outputs": [],
   "source": [
    "import os\n",
    "os.environ[\"CUDA_VISIBLE_DEVICES\"] = '1'"
   ]
  },
  {
   "cell_type": "code",
   "execution_count": 2,
   "id": "905aabfc-f657-4637-987a-987078e43167",
   "metadata": {
    "tags": []
   },
   "outputs": [],
   "source": [
    "import esm\n",
    "import torch\n",
    "import matplotlib.pyplot as plt\n",
    "from tqdm import tqdm \n",
    "import numpy as np \n",
    "import h5py\n",
    "import json\n",
    "import re\n",
    "import shutil\n",
    "import random\n",
    "import time"
   ]
  },
  {
   "cell_type": "code",
   "execution_count": 3,
   "id": "8cd4950d-1cbb-44bd-ae2c-9beba2a183d4",
   "metadata": {
    "tags": []
   },
   "outputs": [],
   "source": [
    "esm_transformer, esm2_alphabet = esm.pretrained.esm2_t36_3B_UR50D()\n",
    "batch_converter = esm2_alphabet.get_batch_converter()"
   ]
  },
  {
   "cell_type": "code",
   "execution_count": 4,
   "id": "c559d141-0f4d-4e53-b9c1-c1fd2b05ab77",
   "metadata": {
    "tags": []
   },
   "outputs": [],
   "source": [
    "device = torch.device('cuda:0' if torch.cuda.is_available() else 'cpu')\n",
    "esm_transformer = esm_transformer.to(device)"
   ]
  },
  {
   "cell_type": "code",
   "execution_count": 40,
   "id": "3e477dc2-d215-4138-8885-78724f1ac3b0",
   "metadata": {
    "tags": []
   },
   "outputs": [],
   "source": [
    "with open('data/full_seq_dict.json', \"r\") as json_file:\n",
    "    seq_dict = json.load(json_file)\n",
    "\n",
    "with open('data/selected_protein.json', 'r') as file:\n",
    "    selected_protein = json.load(file)"
   ]
  },
  {
   "cell_type": "code",
   "execution_count": 39,
   "id": "0ef340d3-e3fb-459d-bcad-87637f0caada",
   "metadata": {
    "tags": []
   },
   "outputs": [],
   "source": [
    "save_file_path = 'results/single_seg_w_bos_eos.hdf5'"
   ]
  },
  {
   "cell_type": "code",
   "execution_count": 10,
   "id": "099b3295-047f-4dad-a078-27fa9fa94f72",
   "metadata": {
    "tags": []
   },
   "outputs": [],
   "source": [
    "def patch_sum(matrix, top_left, size=22):\n",
    "    i, j = top_left\n",
    "    return sum(matrix[x][y] for x in range(i, i + size) for y in range(j, j + size))"
   ]
  },
  {
   "cell_type": "code",
   "execution_count": 11,
   "id": "5a192fb7-27cc-48de-935d-5e74727c49b2",
   "metadata": {
    "tags": []
   },
   "outputs": [],
   "source": [
    "def find_diagonal_patches(matrix, size=22, threshold=15, sample_numb=3):\n",
    "    m = len(matrix)\n",
    "    patches = []\n",
    "\n",
    "    for i in range(m - size + 1):\n",
    "        j = i  \n",
    "        # select those with enough contacts + enough space (10) for explore flanking values \n",
    "        if (patch_sum(matrix, (i, j), size) > threshold) and (10 < i < (matrix.shape[0] - size - 10)):\n",
    "            patches.append((i, j))\n",
    "            \n",
    "    sampled_patches = random.sample(patches, min(sample_numb, len(patches))) \n",
    "\n",
    "    return sampled_patches"
   ]
  },
  {
   "cell_type": "code",
   "execution_count": 12,
   "id": "af409228-e833-463c-b4ad-9f6b7e9a6a0c",
   "metadata": {
    "tags": []
   },
   "outputs": [],
   "source": [
    "def get_contact(seq): \n",
    "    seq_tuple = [(1, seq)]\n",
    "    batch_labels, batch_strs, batch_tokens = batch_converter(seq_tuple)\n",
    "    #batch_tokens = torch.cat((torch.full((batch_tokens.shape[0], 1), 32), batch_tokens[:, 1:-1], torch.full((batch_tokens.shape[0], 1), 32)), dim=1)\n",
    "    batch_tokens = batch_tokens.to(device)\n",
    "    with torch.no_grad():\n",
    "        esm2_predictions = esm_transformer.predict_contacts(batch_tokens)[0].cpu()\n",
    "    return esm2_predictions.numpy()"
   ]
  },
  {
   "cell_type": "code",
   "execution_count": 13,
   "id": "a3148e30-2929-4232-aa0b-bd2584ad79ee",
   "metadata": {
    "tags": []
   },
   "outputs": [],
   "source": [
    "def norm_sum_mult(ori_contact_seg, seg_cross_contact):\n",
    "    ori_mult_new = np.multiply(ori_contact_seg, seg_cross_contact)\n",
    "    ori_mult_ori = np.multiply(ori_contact_seg, ori_contact_seg)\n",
    "    return (np.sum(ori_mult_new)/np.sum(ori_mult_ori))"
   ]
  },
  {
   "cell_type": "code",
   "execution_count": 45,
   "id": "a674b410-6086-45f4-8d5c-5896c53fcf86",
   "metadata": {
    "tags": []
   },
   "outputs": [
    {
     "name": "stderr",
     "output_type": "stream",
     "text": [
      "  0%|          | 0/3 [00:00<?, ?it/s]\n",
      "  0%|          | 0/3 [00:00<?, ?it/s]\u001b[A\n",
      " 33%|███▎      | 1/3 [00:22<00:44, 22.16s/it]\u001b[A\n",
      " 67%|██████▋   | 2/3 [00:26<00:11, 11.52s/it]\u001b[A\n",
      "100%|██████████| 3/3 [00:35<00:00, 11.83s/it]\u001b[A\n",
      " 33%|███▎      | 1/3 [00:35<01:11, 35.71s/it]\n",
      "  0%|          | 0/3 [00:00<?, ?it/s]\u001b[A\n",
      " 33%|███▎      | 1/3 [00:20<00:41, 20.99s/it]\u001b[A\n",
      " 67%|██████▋   | 2/3 [00:46<00:23, 23.40s/it]\u001b[A\n",
      "100%|██████████| 3/3 [00:57<00:00, 19.09s/it]\u001b[A\n",
      " 67%|██████▋   | 2/3 [01:33<00:48, 48.53s/it]\n",
      "  0%|          | 0/3 [00:00<?, ?it/s]\u001b[A\n",
      " 33%|███▎      | 1/3 [00:09<00:19,  9.54s/it]\u001b[A\n",
      " 67%|██████▋   | 2/3 [00:14<00:06,  6.99s/it]\u001b[A\n",
      "100%|██████████| 3/3 [00:19<00:00,  6.58s/it]\u001b[A\n",
      "100%|██████████| 3/3 [01:53<00:00, 37.70s/it]\n"
     ]
    }
   ],
   "source": [
    "with h5py.File(save_file_path, 'w') as f:\n",
    "    for protein in tqdm(selected_protein):\n",
    "            seq = seq_dict[protein]\n",
    "            ori_contact = get_contact(seq_dict[protein])\n",
    "            \n",
    "            patches = find_diagonal_patches(ori_contact, size=22, threshold=15, sample_numb=3)\n",
    "            \n",
    "            for patch in tqdm(patches):  \n",
    "                patch_start = patch[0] \n",
    "                patch_end = patch[0] + 22\n",
    "                flank_len_range = min(patch_start, len(seq) - patch_end + 1)\n",
    "                \n",
    "                for flank_len in range(flank_len_range):\n",
    "                    seg_start = patch_start - flank_len \n",
    "                    seg_end = patch_end + flank_len \n",
    "                    seq_mask = seg_start *'<mask>' + seq[seg_start:seg_end] + len(seq[seg_end:])*'<mask>'\n",
    "\n",
    "                    mask_contact_full = get_contact(seq_mask)\n",
    "\n",
    "                    ori_contact_seg = ori_contact[patch_start:patch_end, patch_start:patch_end]\n",
    "                    mask_contact_seg = mask_contact_full[patch_start:patch_end, patch_start:patch_end]\n",
    "\n",
    "                    norm_sum_mult_value = norm_sum_mult(ori_contact_seg, mask_contact_seg)\n",
    "                    \n",
    "                    key1 = f'{protein}/{patch[0]}/{flank_len}/mask_contact_full' \n",
    "                    key2 = f'{protein}/{patch[0]}/{flank_len}/ori_contact_seg' \n",
    "                    key3 = f'{protein}/{patch[0]}/{flank_len}/mask_contact_seg' \n",
    "                    key4 = f'{protein}/{patch[0]}/{flank_len}/norm_sum_mult_value' \n",
    "\n",
    "                    f.create_dataset(key1, data=mask_contact_full)\n",
    "                    f.create_dataset(key2, data=ori_contact_seg)\n",
    "                    f.create_dataset(key3, data=mask_contact_seg)\n",
    "                    f.create_dataset(key4, data=norm_sum_mult_value)"
   ]
  },
  {
   "cell_type": "code",
   "execution_count": null,
   "id": "ff6f98bd-8eeb-47cd-b2aa-10f815d14088",
   "metadata": {},
   "outputs": [],
   "source": []
  }
 ],
 "metadata": {
  "kernelspec": {
   "display_name": "so_covar",
   "language": "python",
   "name": "so_covar"
  },
  "language_info": {
   "codemirror_mode": {
    "name": "ipython",
    "version": 3
   },
   "file_extension": ".py",
   "mimetype": "text/x-python",
   "name": "python",
   "nbconvert_exporter": "python",
   "pygments_lexer": "ipython3",
   "version": "3.9.16"
  }
 },
 "nbformat": 4,
 "nbformat_minor": 5
}
